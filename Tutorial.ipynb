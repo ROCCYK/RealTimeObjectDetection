{
 "cells": [
  {
   "cell_type": "markdown",
   "metadata": {},
   "source": [
    "Resources Used\n",
    "- wget.download('https://tensorflow-object-detection-api-tutorial.readthedocs.io/en/latest/_downloads/da4babe668a8afb093cc7776d7e630f3/generate_tfrecord.py')\n",
    "- Setup https://tensorflow-object-detection-api-tutorial.readthedocs.io/en/latest/install.html"
   ]
  },
  {
   "cell_type": "markdown",
   "metadata": {},
   "source": [
    "# 0. Setup Paths"
   ]
  },
  {
   "cell_type": "code",
   "execution_count": 1,
   "metadata": {},
   "outputs": [],
   "source": [
    "WORKSPACE_PATH = 'Tensorflow/workspace'\n",
    "SCRIPTS_PATH = 'Tensorflow/scripts'\n",
    "APIMODEL_PATH = 'Tensorflow/models'\n",
    "ANNOTATION_PATH = WORKSPACE_PATH+'/annotations'\n",
    "IMAGE_PATH = WORKSPACE_PATH+'/images'\n",
    "MODEL_PATH = WORKSPACE_PATH+'/models'\n",
    "PRETRAINED_MODEL_PATH = WORKSPACE_PATH+'/pre-trained-models'\n",
    "CONFIG_PATH = MODEL_PATH+'/my_ssd_mobnet/pipeline.config'\n",
    "CHECKPOINT_PATH = MODEL_PATH+'/my_ssd_mobnet/'"
   ]
  },
  {
   "cell_type": "markdown",
   "metadata": {},
   "source": [
    "# 1. Create Label Map"
   ]
  },
  {
   "cell_type": "code",
   "execution_count": 2,
   "metadata": {},
   "outputs": [],
   "source": [
    "labels = [{'name':'with_mask', 'id':1}, {'name':'without_mask', 'id':2}, {'name':'mask_weared_incorrect', 'id':3}]\n",
    "\n",
    "with open(ANNOTATION_PATH + '\\label_map.pbtxt', 'w') as f:\n",
    "    for label in labels:\n",
    "        f.write('item { \\n')\n",
    "        f.write('\\tname:\\'{}\\'\\n'.format(label['name']))\n",
    "        f.write('\\tid:{}\\n'.format(label['id']))\n",
    "        f.write('}\\n')"
   ]
  },
  {
   "cell_type": "markdown",
   "metadata": {},
   "source": [
    "# 2. Create TF records"
   ]
  },
  {
   "cell_type": "code",
   "execution_count": 3,
   "metadata": {},
   "outputs": [
    {
     "name": "stderr",
     "output_type": "stream",
     "text": [
      "Traceback (most recent call last):\n",
      "  File \"C:\\Users\\Admin\\Documents\\GitHub\\RealTimeObjectDetection\\Tensorflow\\scripts\\generate_tfrecord.py\", line 29, in <module>\n",
      "    from object_detection.utils import dataset_util, label_map_util\n",
      "  File \"C:\\Users\\Admin\\anaconda3\\lib\\site-packages\\object_detection\\utils\\label_map_util.py\", line 21, in <module>\n",
      "    from object_detection.protos import string_int_label_map_pb2\n",
      "  File \"C:\\Users\\Admin\\anaconda3\\lib\\site-packages\\object_detection\\protos\\string_int_label_map_pb2.py\", line 36, in <module>\n",
      "    _descriptor.FieldDescriptor(\n",
      "  File \"C:\\Users\\Admin\\anaconda3\\lib\\site-packages\\google\\protobuf\\descriptor.py\", line 561, in __new__\n",
      "    _message.Message._CheckCalledFromGeneratedFile()\n",
      "TypeError: Descriptors cannot not be created directly.\n",
      "If this call came from a _pb2.py file, your generated code is out of date and must be regenerated with protoc >= 3.19.0.\n",
      "If you cannot immediately regenerate your protos, some other possible workarounds are:\n",
      " 1. Downgrade the protobuf package to 3.20.x or lower.\n",
      " 2. Set PROTOCOL_BUFFERS_PYTHON_IMPLEMENTATION=python (but this will use pure-Python parsing and will be much slower).\n",
      "\n",
      "More information: https://developers.google.com/protocol-buffers/docs/news/2022-05-06#python-updates\n",
      "Traceback (most recent call last):\n",
      "  File \"C:\\Users\\Admin\\Documents\\GitHub\\RealTimeObjectDetection\\Tensorflow\\scripts\\generate_tfrecord.py\", line 29, in <module>\n",
      "    from object_detection.utils import dataset_util, label_map_util\n",
      "  File \"C:\\Users\\Admin\\anaconda3\\lib\\site-packages\\object_detection\\utils\\label_map_util.py\", line 21, in <module>\n",
      "    from object_detection.protos import string_int_label_map_pb2\n",
      "  File \"C:\\Users\\Admin\\anaconda3\\lib\\site-packages\\object_detection\\protos\\string_int_label_map_pb2.py\", line 36, in <module>\n",
      "    _descriptor.FieldDescriptor(\n",
      "  File \"C:\\Users\\Admin\\anaconda3\\lib\\site-packages\\google\\protobuf\\descriptor.py\", line 561, in __new__\n",
      "    _message.Message._CheckCalledFromGeneratedFile()\n",
      "TypeError: Descriptors cannot not be created directly.\n",
      "If this call came from a _pb2.py file, your generated code is out of date and must be regenerated with protoc >= 3.19.0.\n",
      "If you cannot immediately regenerate your protos, some other possible workarounds are:\n",
      " 1. Downgrade the protobuf package to 3.20.x or lower.\n",
      " 2. Set PROTOCOL_BUFFERS_PYTHON_IMPLEMENTATION=python (but this will use pure-Python parsing and will be much slower).\n",
      "\n",
      "More information: https://developers.google.com/protocol-buffers/docs/news/2022-05-06#python-updates\n"
     ]
    }
   ],
   "source": [
    "!python {SCRIPTS_PATH + '/generate_tfrecord.py'} -x {IMAGE_PATH + '/train'} -l {ANNOTATION_PATH + '/label_map.pbtxt'} -o {ANNOTATION_PATH + '/train.record'}\n",
    "!python {SCRIPTS_PATH + '/generate_tfrecord.py'} -x{IMAGE_PATH + '/test'} -l {ANNOTATION_PATH + '/label_map.pbtxt'} -o {ANNOTATION_PATH + '/test.record'}"
   ]
  },
  {
   "cell_type": "markdown",
   "metadata": {},
   "source": [
    "# 3. Download TF Models Pretrained Models from Tensorflow Model Zoo"
   ]
  },
  {
   "cell_type": "code",
   "execution_count": 4,
   "metadata": {},
   "outputs": [
    {
     "name": "stderr",
     "output_type": "stream",
     "text": [
      "fatal: destination path 'models' already exists and is not an empty directory.\n"
     ]
    }
   ],
   "source": [
    "!cd Tensorflow && git clone https://github.com/tensorflow/models"
   ]
  },
  {
   "cell_type": "code",
   "execution_count": 5,
   "metadata": {},
   "outputs": [],
   "source": [
    "#wget.download('http://download.tensorflow.org/models/object_detection/tf2/20200711/ssd_mobilenet_v2_fpnlite_320x320_coco17_tpu-8.tar.gz')\n",
    "#!mv ssd_mobilenet_v2_fpnlite_320x320_coco17_tpu-8.tar.gz {PRETRAINED_MODEL_PATH}\n",
    "#!cd {PRETRAINED_MODEL_PATH} && tar -zxvf ssd_mobilenet_v2_fpnlite_320x320_coco17_tpu-8.tar.gz"
   ]
  },
  {
   "cell_type": "markdown",
   "metadata": {},
   "source": [
    "# 4. Copy Model Config to Training Folder"
   ]
  },
  {
   "cell_type": "code",
   "execution_count": 6,
   "metadata": {},
   "outputs": [],
   "source": [
    "CUSTOM_MODEL_NAME = 'my_ssd_mobnet' "
   ]
  },
  {
   "cell_type": "code",
   "execution_count": 7,
   "metadata": {},
   "outputs": [
    {
     "name": "stderr",
     "output_type": "stream",
     "text": [
      "A subdirectory or file Tensorflow\\workspace\\models\\my_ssd_mobnet already exists.\n",
      "'cp' is not recognized as an internal or external command,\n",
      "operable program or batch file.\n"
     ]
    }
   ],
   "source": [
    "!mkdir {'Tensorflow\\workspace\\models\\\\'+CUSTOM_MODEL_NAME}\n",
    "!cp {PRETRAINED_MODEL_PATH+'/ssd_mobilenet_v2_fpnlite_320x320_coco17_tpu-8/pipeline.config'} {MODEL_PATH+'/'+CUSTOM_MODEL_NAME}"
   ]
  },
  {
   "cell_type": "markdown",
   "metadata": {},
   "source": [
    "# 5. Update Config For Transfer Learning"
   ]
  },
  {
   "cell_type": "code",
   "execution_count": 13,
   "metadata": {},
   "outputs": [
    {
     "ename": "TypeError",
     "evalue": "Descriptors cannot not be created directly.\nIf this call came from a _pb2.py file, your generated code is out of date and must be regenerated with protoc >= 3.19.0.\nIf you cannot immediately regenerate your protos, some other possible workarounds are:\n 1. Downgrade the protobuf package to 3.20.x or lower.\n 2. Set PROTOCOL_BUFFERS_PYTHON_IMPLEMENTATION=python (but this will use pure-Python parsing and will be much slower).\n\nMore information: https://developers.google.com/protocol-buffers/docs/news/2022-05-06#python-updates",
     "output_type": "error",
     "traceback": [
      "\u001B[1;31m---------------------------------------------------------------------------\u001B[0m",
      "\u001B[1;31mTypeError\u001B[0m                                 Traceback (most recent call last)",
      "Input \u001B[1;32mIn [13]\u001B[0m, in \u001B[0;36m<cell line: 2>\u001B[1;34m()\u001B[0m\n\u001B[0;32m      1\u001B[0m \u001B[38;5;28;01mimport\u001B[39;00m \u001B[38;5;21;01mtensorflow\u001B[39;00m \u001B[38;5;28;01mas\u001B[39;00m \u001B[38;5;21;01mtf\u001B[39;00m\n\u001B[1;32m----> 2\u001B[0m \u001B[38;5;28;01mfrom\u001B[39;00m \u001B[38;5;21;01mobject_detection\u001B[39;00m\u001B[38;5;21;01m.\u001B[39;00m\u001B[38;5;21;01mutils\u001B[39;00m \u001B[38;5;28;01mimport\u001B[39;00m config_util\n\u001B[0;32m      3\u001B[0m \u001B[38;5;28;01mfrom\u001B[39;00m \u001B[38;5;21;01mobject_detection\u001B[39;00m\u001B[38;5;21;01m.\u001B[39;00m\u001B[38;5;21;01mprotos\u001B[39;00m \u001B[38;5;28;01mimport\u001B[39;00m pipeline_pb2\n\u001B[0;32m      4\u001B[0m \u001B[38;5;28;01mfrom\u001B[39;00m \u001B[38;5;21;01mgoogle\u001B[39;00m\u001B[38;5;21;01m.\u001B[39;00m\u001B[38;5;21;01mprotobuf\u001B[39;00m \u001B[38;5;28;01mimport\u001B[39;00m text_format\n",
      "File \u001B[1;32m~\\anaconda3\\lib\\site-packages\\object_detection\\utils\\config_util.py:24\u001B[0m, in \u001B[0;36m<module>\u001B[1;34m\u001B[0m\n\u001B[0;32m     20\u001B[0m \u001B[38;5;28;01mfrom\u001B[39;00m \u001B[38;5;21;01mgoogle\u001B[39;00m\u001B[38;5;21;01m.\u001B[39;00m\u001B[38;5;21;01mprotobuf\u001B[39;00m \u001B[38;5;28;01mimport\u001B[39;00m text_format\n\u001B[0;32m     22\u001B[0m \u001B[38;5;28;01mfrom\u001B[39;00m \u001B[38;5;21;01mtensorflow\u001B[39;00m\u001B[38;5;21;01m.\u001B[39;00m\u001B[38;5;21;01mpython\u001B[39;00m\u001B[38;5;21;01m.\u001B[39;00m\u001B[38;5;21;01mlib\u001B[39;00m\u001B[38;5;21;01m.\u001B[39;00m\u001B[38;5;21;01mio\u001B[39;00m \u001B[38;5;28;01mimport\u001B[39;00m file_io\n\u001B[1;32m---> 24\u001B[0m \u001B[38;5;28;01mfrom\u001B[39;00m \u001B[38;5;21;01mobject_detection\u001B[39;00m\u001B[38;5;21;01m.\u001B[39;00m\u001B[38;5;21;01mprotos\u001B[39;00m \u001B[38;5;28;01mimport\u001B[39;00m eval_pb2\n\u001B[0;32m     25\u001B[0m \u001B[38;5;28;01mfrom\u001B[39;00m \u001B[38;5;21;01mobject_detection\u001B[39;00m\u001B[38;5;21;01m.\u001B[39;00m\u001B[38;5;21;01mprotos\u001B[39;00m \u001B[38;5;28;01mimport\u001B[39;00m graph_rewriter_pb2\n\u001B[0;32m     26\u001B[0m \u001B[38;5;28;01mfrom\u001B[39;00m \u001B[38;5;21;01mobject_detection\u001B[39;00m\u001B[38;5;21;01m.\u001B[39;00m\u001B[38;5;21;01mprotos\u001B[39;00m \u001B[38;5;28;01mimport\u001B[39;00m input_reader_pb2\n",
      "File \u001B[1;32m~\\anaconda3\\lib\\site-packages\\object_detection\\protos\\eval_pb2.py:36\u001B[0m, in \u001B[0;36m<module>\u001B[1;34m\u001B[0m\n\u001B[0;32m     13\u001B[0m _sym_db \u001B[38;5;241m=\u001B[39m _symbol_database\u001B[38;5;241m.\u001B[39mDefault()\n\u001B[0;32m     18\u001B[0m DESCRIPTOR \u001B[38;5;241m=\u001B[39m _descriptor\u001B[38;5;241m.\u001B[39mFileDescriptor(\n\u001B[0;32m     19\u001B[0m   name\u001B[38;5;241m=\u001B[39m\u001B[38;5;124m'\u001B[39m\u001B[38;5;124mobject_detection/protos/eval.proto\u001B[39m\u001B[38;5;124m'\u001B[39m,\n\u001B[0;32m     20\u001B[0m   package\u001B[38;5;241m=\u001B[39m\u001B[38;5;124m'\u001B[39m\u001B[38;5;124mobject_detection.protos\u001B[39m\u001B[38;5;124m'\u001B[39m,\n\u001B[1;32m   (...)\u001B[0m\n\u001B[0;32m     23\u001B[0m   serialized_pb\u001B[38;5;241m=\u001B[39m_b(\u001B[38;5;124m'\u001B[39m\u001B[38;5;130;01m\\n\u001B[39;00m\u001B[38;5;130;01m\\\"\u001B[39;00m\u001B[38;5;124mobject_detection/protos/eval.proto\u001B[39m\u001B[38;5;130;01m\\x12\u001B[39;00m\u001B[38;5;130;01m\\x17\u001B[39;00m\u001B[38;5;124mobject_detection.protos\u001B[39m\u001B[38;5;130;01m\\\"\u001B[39;00m\u001B[38;5;130;01m\\xf7\u001B[39;00m\u001B[38;5;130;01m\\x05\u001B[39;00m\u001B[38;5;130;01m\\n\u001B[39;00m\u001B[38;5;130;01m\\n\u001B[39;00m\u001B[38;5;124mEvalConfig\u001B[39m\u001B[38;5;130;01m\\x12\u001B[39;00m\u001B[38;5;130;01m\\x15\u001B[39;00m\u001B[38;5;130;01m\\n\u001B[39;00m\u001B[38;5;130;01m\\n\u001B[39;00m\u001B[38;5;124mbatch_size\u001B[39m\u001B[38;5;130;01m\\x18\u001B[39;00m\u001B[38;5;130;01m\\x19\u001B[39;00m\u001B[38;5;124m \u001B[39m\u001B[38;5;130;01m\\x01\u001B[39;00m\u001B[38;5;124m(\u001B[39m\u001B[38;5;130;01m\\r\u001B[39;00m\u001B[38;5;124m:\u001B[39m\u001B[38;5;130;01m\\x01\u001B[39;00m\u001B[38;5;130;01m\\x31\u001B[39;00m\u001B[38;5;130;01m\\x12\u001B[39;00m\u001B[38;5;130;01m\\x1e\u001B[39;00m\u001B[38;5;130;01m\\n\u001B[39;00m\u001B[38;5;130;01m\\x12\u001B[39;00m\u001B[38;5;124mnum_visualizations\u001B[39m\u001B[38;5;130;01m\\x18\u001B[39;00m\u001B[38;5;130;01m\\x01\u001B[39;00m\u001B[38;5;124m \u001B[39m\u001B[38;5;130;01m\\x01\u001B[39;00m\u001B[38;5;124m(\u001B[39m\u001B[38;5;130;01m\\r\u001B[39;00m\u001B[38;5;124m:\u001B[39m\u001B[38;5;130;01m\\x02\u001B[39;00m\u001B[38;5;130;01m\\x31\u001B[39;00m\u001B[38;5;130;01m\\x30\u001B[39;00m\u001B[38;5;130;01m\\x12\u001B[39;00m\u001B[38;5;130;01m\\x1e\u001B[39;00m\u001B[38;5;130;01m\\n\u001B[39;00m\u001B[38;5;130;01m\\x0c\u001B[39;00m\u001B[38;5;124mnum_examples\u001B[39m\u001B[38;5;130;01m\\x18\u001B[39;00m\u001B[38;5;130;01m\\x02\u001B[39;00m\u001B[38;5;124m \u001B[39m\u001B[38;5;130;01m\\x01\u001B[39;00m\u001B[38;5;124m(\u001B[39m\u001B[38;5;130;01m\\r\u001B[39;00m\u001B[38;5;124m:\u001B[39m\u001B[38;5;130;01m\\x04\u001B[39;00m\u001B[38;5;130;01m\\x35\u001B[39;00m\u001B[38;5;130;01m\\x30\u001B[39;00m\u001B[38;5;130;01m\\x30\u001B[39;00m\u001B[38;5;130;01m\\x30\u001B[39;00m\u001B[38;5;130;01m\\x42\u001B[39;00m\u001B[38;5;130;01m\\x02\u001B[39;00m\u001B[38;5;130;01m\\x18\u001B[39;00m\u001B[38;5;130;01m\\x01\u001B[39;00m\u001B[38;5;130;01m\\x12\u001B[39;00m\u001B[38;5;130;01m\\x1f\u001B[39;00m\u001B[38;5;130;01m\\n\u001B[39;00m\u001B[38;5;130;01m\\x12\u001B[39;00m\u001B[38;5;130;01m\\x65\u001B[39;00m\u001B[38;5;124mval_interval_secs\u001B[39m\u001B[38;5;130;01m\\x18\u001B[39;00m\u001B[38;5;130;01m\\x03\u001B[39;00m\u001B[38;5;124m \u001B[39m\u001B[38;5;130;01m\\x01\u001B[39;00m\u001B[38;5;124m(\u001B[39m\u001B[38;5;130;01m\\r\u001B[39;00m\u001B[38;5;124m:\u001B[39m\u001B[38;5;130;01m\\x03\u001B[39;00m\u001B[38;5;130;01m\\x33\u001B[39;00m\u001B[38;5;130;01m\\x30\u001B[39;00m\u001B[38;5;130;01m\\x30\u001B[39;00m\u001B[38;5;130;01m\\x12\u001B[39;00m\u001B[38;5;130;01m\\x18\u001B[39;00m\u001B[38;5;130;01m\\n\u001B[39;00m\u001B[38;5;130;01m\\t\u001B[39;00m\u001B[38;5;124mmax_evals\u001B[39m\u001B[38;5;130;01m\\x18\u001B[39;00m\u001B[38;5;130;01m\\x04\u001B[39;00m\u001B[38;5;124m \u001B[39m\u001B[38;5;130;01m\\x01\u001B[39;00m\u001B[38;5;124m(\u001B[39m\u001B[38;5;130;01m\\r\u001B[39;00m\u001B[38;5;124m:\u001B[39m\u001B[38;5;130;01m\\x01\u001B[39;00m\u001B[38;5;130;01m\\x30\u001B[39;00m\u001B[38;5;130;01m\\x42\u001B[39;00m\u001B[38;5;130;01m\\x02\u001B[39;00m\u001B[38;5;130;01m\\x18\u001B[39;00m\u001B[38;5;130;01m\\x01\u001B[39;00m\u001B[38;5;130;01m\\x12\u001B[39;00m\u001B[38;5;130;01m\\x19\u001B[39;00m\u001B[38;5;130;01m\\n\u001B[39;00m\u001B[38;5;130;01m\\n\u001B[39;00m\u001B[38;5;124msave_graph\u001B[39m\u001B[38;5;130;01m\\x18\u001B[39;00m\u001B[38;5;130;01m\\x05\u001B[39;00m\u001B[38;5;124m \u001B[39m\u001B[38;5;130;01m\\x01\u001B[39;00m\u001B[38;5;124m(\u001B[39m\u001B[38;5;130;01m\\x08\u001B[39;00m\u001B[38;5;124m:\u001B[39m\u001B[38;5;130;01m\\x05\u001B[39;00m\u001B[38;5;130;01m\\x66\u001B[39;00m\u001B[38;5;130;01m\\x61\u001B[39;00m\u001B[38;5;124mlse\u001B[39m\u001B[38;5;130;01m\\x12\u001B[39;00m\u001B[38;5;130;01m\\\"\u001B[39;00m\u001B[38;5;130;01m\\n\u001B[39;00m\u001B[38;5;130;01m\\x18\u001B[39;00m\u001B[38;5;124mvisualization_export_dir\u001B[39m\u001B[38;5;130;01m\\x18\u001B[39;00m\u001B[38;5;130;01m\\x06\u001B[39;00m\u001B[38;5;124m \u001B[39m\u001B[38;5;130;01m\\x01\u001B[39;00m\u001B[38;5;124m(\u001B[39m\u001B[38;5;130;01m\\t\u001B[39;00m\u001B[38;5;124m:\u001B[39m\u001B[38;5;130;01m\\x00\u001B[39;00m\u001B[38;5;130;01m\\x12\u001B[39;00m\u001B[38;5;130;01m\\x15\u001B[39;00m\u001B[38;5;130;01m\\n\u001B[39;00m\u001B[38;5;130;01m\\x0b\u001B[39;00m\u001B[38;5;130;01m\\x65\u001B[39;00m\u001B[38;5;124mval_master\u001B[39m\u001B[38;5;130;01m\\x18\u001B[39;00m\u001B[38;5;130;01m\\x07\u001B[39;00m\u001B[38;5;124m \u001B[39m\u001B[38;5;130;01m\\x01\u001B[39;00m\u001B[38;5;124m(\u001B[39m\u001B[38;5;130;01m\\t\u001B[39;00m\u001B[38;5;124m:\u001B[39m\u001B[38;5;130;01m\\x00\u001B[39;00m\u001B[38;5;130;01m\\x12\u001B[39;00m\u001B[38;5;130;01m\\x13\u001B[39;00m\u001B[38;5;130;01m\\n\u001B[39;00m\u001B[38;5;130;01m\\x0b\u001B[39;00m\u001B[38;5;124mmetrics_set\u001B[39m\u001B[38;5;130;01m\\x18\u001B[39;00m\u001B[38;5;130;01m\\x08\u001B[39;00m\u001B[38;5;124m \u001B[39m\u001B[38;5;130;01m\\x03\u001B[39;00m\u001B[38;5;124m(\u001B[39m\u001B[38;5;130;01m\\t\u001B[39;00m\u001B[38;5;130;01m\\x12\u001B[39;00m\u001B[38;5;130;01m\\x15\u001B[39;00m\u001B[38;5;130;01m\\n\u001B[39;00m\u001B[38;5;130;01m\\x0b\u001B[39;00m\u001B[38;5;130;01m\\x65\u001B[39;00m\u001B[38;5;124mxport_path\u001B[39m\u001B[38;5;130;01m\\x18\u001B[39;00m\u001B[38;5;130;01m\\t\u001B[39;00m\u001B[38;5;124m \u001B[39m\u001B[38;5;130;01m\\x01\u001B[39;00m\u001B[38;5;124m(\u001B[39m\u001B[38;5;130;01m\\t\u001B[39;00m\u001B[38;5;124m:\u001B[39m\u001B[38;5;130;01m\\x00\u001B[39;00m\u001B[38;5;130;01m\\x12\u001B[39;00m\u001B[38;5;124m!\u001B[39m\u001B[38;5;130;01m\\n\u001B[39;00m\u001B[38;5;130;01m\\x12\u001B[39;00m\u001B[38;5;124mignore_groundtruth\u001B[39m\u001B[38;5;130;01m\\x18\u001B[39;00m\u001B[38;5;130;01m\\n\u001B[39;00m\u001B[38;5;124m \u001B[39m\u001B[38;5;130;01m\\x01\u001B[39;00m\u001B[38;5;124m(\u001B[39m\u001B[38;5;130;01m\\x08\u001B[39;00m\u001B[38;5;124m:\u001B[39m\u001B[38;5;130;01m\\x05\u001B[39;00m\u001B[38;5;130;01m\\x66\u001B[39;00m\u001B[38;5;130;01m\\x61\u001B[39;00m\u001B[38;5;124mlse\u001B[39m\u001B[38;5;130;01m\\x12\u001B[39;00m\u001B[38;5;130;01m\\\"\u001B[39;00m\u001B[38;5;130;01m\\n\u001B[39;00m\u001B[38;5;130;01m\\x13\u001B[39;00m\u001B[38;5;124muse_moving_averages\u001B[39m\u001B[38;5;130;01m\\x18\u001B[39;00m\u001B[38;5;130;01m\\x0b\u001B[39;00m\u001B[38;5;124m \u001B[39m\u001B[38;5;130;01m\\x01\u001B[39;00m\u001B[38;5;124m(\u001B[39m\u001B[38;5;130;01m\\x08\u001B[39;00m\u001B[38;5;124m:\u001B[39m\u001B[38;5;130;01m\\x05\u001B[39;00m\u001B[38;5;130;01m\\x66\u001B[39;00m\u001B[38;5;130;01m\\x61\u001B[39;00m\u001B[38;5;124mlse\u001B[39m\u001B[38;5;130;01m\\x12\u001B[39;00m\u001B[38;5;130;01m\\\"\u001B[39;00m\u001B[38;5;130;01m\\n\u001B[39;00m\u001B[38;5;130;01m\\x13\u001B[39;00m\u001B[38;5;130;01m\\x65\u001B[39;00m\u001B[38;5;124mval_instance_masks\u001B[39m\u001B[38;5;130;01m\\x18\u001B[39;00m\u001B[38;5;130;01m\\x0c\u001B[39;00m\u001B[38;5;124m \u001B[39m\u001B[38;5;130;01m\\x01\u001B[39;00m\u001B[38;5;124m(\u001B[39m\u001B[38;5;130;01m\\x08\u001B[39;00m\u001B[38;5;124m:\u001B[39m\u001B[38;5;130;01m\\x05\u001B[39;00m\u001B[38;5;130;01m\\x66\u001B[39;00m\u001B[38;5;130;01m\\x61\u001B[39;00m\u001B[38;5;124mlse\u001B[39m\u001B[38;5;130;01m\\x12\u001B[39;00m\u001B[38;5;124m \u001B[39m\u001B[38;5;130;01m\\n\u001B[39;00m\u001B[38;5;130;01m\\x13\u001B[39;00m\u001B[38;5;124mmin_score_threshold\u001B[39m\u001B[38;5;130;01m\\x18\u001B[39;00m\u001B[38;5;130;01m\\r\u001B[39;00m\u001B[38;5;124m \u001B[39m\u001B[38;5;130;01m\\x01\u001B[39;00m\u001B[38;5;124m(\u001B[39m\u001B[38;5;130;01m\\x02\u001B[39;00m\u001B[38;5;124m:\u001B[39m\u001B[38;5;130;01m\\x03\u001B[39;00m\u001B[38;5;130;01m\\x30\u001B[39;00m\u001B[38;5;124m.5\u001B[39m\u001B[38;5;130;01m\\x12\u001B[39;00m\u001B[38;5;124m&\u001B[39m\u001B[38;5;130;01m\\n\u001B[39;00m\u001B[38;5;130;01m\\x1a\u001B[39;00m\u001B[38;5;124mmax_num_boxes_to_visualize\u001B[39m\u001B[38;5;130;01m\\x18\u001B[39;00m\u001B[38;5;130;01m\\x0e\u001B[39;00m\u001B[38;5;124m \u001B[39m\u001B[38;5;130;01m\\x01\u001B[39;00m\u001B[38;5;124m(\u001B[39m\u001B[38;5;130;01m\\x05\u001B[39;00m\u001B[38;5;124m:\u001B[39m\u001B[38;5;130;01m\\x02\u001B[39;00m\u001B[38;5;130;01m\\x32\u001B[39;00m\u001B[38;5;130;01m\\x30\u001B[39;00m\u001B[38;5;130;01m\\x12\u001B[39;00m\u001B[38;5;130;01m\\x1a\u001B[39;00m\u001B[38;5;130;01m\\n\u001B[39;00m\u001B[38;5;130;01m\\x0b\u001B[39;00m\u001B[38;5;124mskip_scores\u001B[39m\u001B[38;5;130;01m\\x18\u001B[39;00m\u001B[38;5;130;01m\\x0f\u001B[39;00m\u001B[38;5;124m \u001B[39m\u001B[38;5;130;01m\\x01\u001B[39;00m\u001B[38;5;124m(\u001B[39m\u001B[38;5;130;01m\\x08\u001B[39;00m\u001B[38;5;124m:\u001B[39m\u001B[38;5;130;01m\\x05\u001B[39;00m\u001B[38;5;130;01m\\x66\u001B[39;00m\u001B[38;5;130;01m\\x61\u001B[39;00m\u001B[38;5;124mlse\u001B[39m\u001B[38;5;130;01m\\x12\u001B[39;00m\u001B[38;5;130;01m\\x1a\u001B[39;00m\u001B[38;5;130;01m\\n\u001B[39;00m\u001B[38;5;130;01m\\x0b\u001B[39;00m\u001B[38;5;124mskip_labels\u001B[39m\u001B[38;5;130;01m\\x18\u001B[39;00m\u001B[38;5;130;01m\\x10\u001B[39;00m\u001B[38;5;124m \u001B[39m\u001B[38;5;130;01m\\x01\u001B[39;00m\u001B[38;5;124m(\u001B[39m\u001B[38;5;130;01m\\x08\u001B[39;00m\u001B[38;5;124m:\u001B[39m\u001B[38;5;130;01m\\x05\u001B[39;00m\u001B[38;5;130;01m\\x66\u001B[39;00m\u001B[38;5;130;01m\\x61\u001B[39;00m\u001B[38;5;124mlse\u001B[39m\u001B[38;5;130;01m\\x12\u001B[39;00m\u001B[38;5;124m*\u001B[39m\u001B[38;5;130;01m\\n\u001B[39;00m\u001B[38;5;130;01m\\x1b\u001B[39;00m\u001B[38;5;124mvisualize_groundtruth_boxes\u001B[39m\u001B[38;5;130;01m\\x18\u001B[39;00m\u001B[38;5;130;01m\\x11\u001B[39;00m\u001B[38;5;124m \u001B[39m\u001B[38;5;130;01m\\x01\u001B[39;00m\u001B[38;5;124m(\u001B[39m\u001B[38;5;130;01m\\x08\u001B[39;00m\u001B[38;5;124m:\u001B[39m\u001B[38;5;130;01m\\x05\u001B[39;00m\u001B[38;5;130;01m\\x66\u001B[39;00m\u001B[38;5;130;01m\\x61\u001B[39;00m\u001B[38;5;124mlse\u001B[39m\u001B[38;5;130;01m\\x12\u001B[39;00m\u001B[38;5;130;01m\\x32\u001B[39;00m\u001B[38;5;130;01m\\n\u001B[39;00m\u001B[38;5;124m#groundtruth_box_visualization_color\u001B[39m\u001B[38;5;130;01m\\x18\u001B[39;00m\u001B[38;5;130;01m\\x12\u001B[39;00m\u001B[38;5;124m \u001B[39m\u001B[38;5;130;01m\\x01\u001B[39;00m\u001B[38;5;124m(\u001B[39m\u001B[38;5;130;01m\\t\u001B[39;00m\u001B[38;5;124m:\u001B[39m\u001B[38;5;130;01m\\x05\u001B[39;00m\u001B[38;5;130;01m\\x62\u001B[39;00m\u001B[38;5;124mlack\u001B[39m\u001B[38;5;130;01m\\x12\u001B[39;00m\u001B[38;5;130;01m\\x35\u001B[39;00m\u001B[38;5;130;01m\\n\u001B[39;00m\u001B[38;5;124m&keep_image_id_for_visualization_export\u001B[39m\u001B[38;5;130;01m\\x18\u001B[39;00m\u001B[38;5;130;01m\\x13\u001B[39;00m\u001B[38;5;124m \u001B[39m\u001B[38;5;130;01m\\x01\u001B[39;00m\u001B[38;5;124m(\u001B[39m\u001B[38;5;130;01m\\x08\u001B[39;00m\u001B[38;5;124m:\u001B[39m\u001B[38;5;130;01m\\x05\u001B[39;00m\u001B[38;5;130;01m\\x66\u001B[39;00m\u001B[38;5;130;01m\\x61\u001B[39;00m\u001B[38;5;124mlse\u001B[39m\u001B[38;5;130;01m\\x12\u001B[39;00m\u001B[38;5;124m$\u001B[39m\u001B[38;5;130;01m\\n\u001B[39;00m\u001B[38;5;130;01m\\x16\u001B[39;00m\u001B[38;5;124mretain_original_images\u001B[39m\u001B[38;5;130;01m\\x18\u001B[39;00m\u001B[38;5;130;01m\\x17\u001B[39;00m\u001B[38;5;124m \u001B[39m\u001B[38;5;130;01m\\x01\u001B[39;00m\u001B[38;5;124m(\u001B[39m\u001B[38;5;130;01m\\x08\u001B[39;00m\u001B[38;5;124m:\u001B[39m\u001B[38;5;130;01m\\x04\u001B[39;00m\u001B[38;5;124mtrue\u001B[39m\u001B[38;5;130;01m\\x12\u001B[39;00m\u001B[38;5;124m+\u001B[39m\u001B[38;5;130;01m\\n\u001B[39;00m\u001B[38;5;130;01m\\x1c\u001B[39;00m\u001B[38;5;124minclude_metrics_per_category\u001B[39m\u001B[38;5;130;01m\\x18\u001B[39;00m\u001B[38;5;130;01m\\x18\u001B[39;00m\u001B[38;5;124m \u001B[39m\u001B[38;5;130;01m\\x01\u001B[39;00m\u001B[38;5;124m(\u001B[39m\u001B[38;5;130;01m\\x08\u001B[39;00m\u001B[38;5;124m:\u001B[39m\u001B[38;5;130;01m\\x05\u001B[39;00m\u001B[38;5;130;01m\\x66\u001B[39;00m\u001B[38;5;130;01m\\x61\u001B[39;00m\u001B[38;5;124mlse\u001B[39m\u001B[38;5;124m'\u001B[39m)\n\u001B[0;32m     24\u001B[0m )\n\u001B[0;32m     29\u001B[0m _EVALCONFIG \u001B[38;5;241m=\u001B[39m _descriptor\u001B[38;5;241m.\u001B[39mDescriptor(\n\u001B[0;32m     30\u001B[0m   name\u001B[38;5;241m=\u001B[39m\u001B[38;5;124m'\u001B[39m\u001B[38;5;124mEvalConfig\u001B[39m\u001B[38;5;124m'\u001B[39m,\n\u001B[0;32m     31\u001B[0m   full_name\u001B[38;5;241m=\u001B[39m\u001B[38;5;124m'\u001B[39m\u001B[38;5;124mobject_detection.protos.EvalConfig\u001B[39m\u001B[38;5;124m'\u001B[39m,\n\u001B[0;32m     32\u001B[0m   filename\u001B[38;5;241m=\u001B[39m\u001B[38;5;28;01mNone\u001B[39;00m,\n\u001B[0;32m     33\u001B[0m   file\u001B[38;5;241m=\u001B[39mDESCRIPTOR,\n\u001B[0;32m     34\u001B[0m   containing_type\u001B[38;5;241m=\u001B[39m\u001B[38;5;28;01mNone\u001B[39;00m,\n\u001B[0;32m     35\u001B[0m   fields\u001B[38;5;241m=\u001B[39m[\n\u001B[1;32m---> 36\u001B[0m     \u001B[43m_descriptor\u001B[49m\u001B[38;5;241;43m.\u001B[39;49m\u001B[43mFieldDescriptor\u001B[49m\u001B[43m(\u001B[49m\n\u001B[0;32m     37\u001B[0m \u001B[43m      \u001B[49m\u001B[43mname\u001B[49m\u001B[38;5;241;43m=\u001B[39;49m\u001B[38;5;124;43m'\u001B[39;49m\u001B[38;5;124;43mbatch_size\u001B[39;49m\u001B[38;5;124;43m'\u001B[39;49m\u001B[43m,\u001B[49m\u001B[43m \u001B[49m\u001B[43mfull_name\u001B[49m\u001B[38;5;241;43m=\u001B[39;49m\u001B[38;5;124;43m'\u001B[39;49m\u001B[38;5;124;43mobject_detection.protos.EvalConfig.batch_size\u001B[39;49m\u001B[38;5;124;43m'\u001B[39;49m\u001B[43m,\u001B[49m\u001B[43m \u001B[49m\u001B[43mindex\u001B[49m\u001B[38;5;241;43m=\u001B[39;49m\u001B[38;5;241;43m0\u001B[39;49m\u001B[43m,\u001B[49m\n\u001B[0;32m     38\u001B[0m \u001B[43m      \u001B[49m\u001B[43mnumber\u001B[49m\u001B[38;5;241;43m=\u001B[39;49m\u001B[38;5;241;43m25\u001B[39;49m\u001B[43m,\u001B[49m\u001B[43m \u001B[49m\u001B[38;5;28;43mtype\u001B[39;49m\u001B[38;5;241;43m=\u001B[39;49m\u001B[38;5;241;43m13\u001B[39;49m\u001B[43m,\u001B[49m\u001B[43m \u001B[49m\u001B[43mcpp_type\u001B[49m\u001B[38;5;241;43m=\u001B[39;49m\u001B[38;5;241;43m3\u001B[39;49m\u001B[43m,\u001B[49m\u001B[43m \u001B[49m\u001B[43mlabel\u001B[49m\u001B[38;5;241;43m=\u001B[39;49m\u001B[38;5;241;43m1\u001B[39;49m\u001B[43m,\u001B[49m\n\u001B[0;32m     39\u001B[0m \u001B[43m      \u001B[49m\u001B[43mhas_default_value\u001B[49m\u001B[38;5;241;43m=\u001B[39;49m\u001B[38;5;28;43;01mTrue\u001B[39;49;00m\u001B[43m,\u001B[49m\u001B[43m \u001B[49m\u001B[43mdefault_value\u001B[49m\u001B[38;5;241;43m=\u001B[39;49m\u001B[38;5;241;43m1\u001B[39;49m\u001B[43m,\u001B[49m\n\u001B[0;32m     40\u001B[0m \u001B[43m      \u001B[49m\u001B[43mmessage_type\u001B[49m\u001B[38;5;241;43m=\u001B[39;49m\u001B[38;5;28;43;01mNone\u001B[39;49;00m\u001B[43m,\u001B[49m\u001B[43m \u001B[49m\u001B[43menum_type\u001B[49m\u001B[38;5;241;43m=\u001B[39;49m\u001B[38;5;28;43;01mNone\u001B[39;49;00m\u001B[43m,\u001B[49m\u001B[43m \u001B[49m\u001B[43mcontaining_type\u001B[49m\u001B[38;5;241;43m=\u001B[39;49m\u001B[38;5;28;43;01mNone\u001B[39;49;00m\u001B[43m,\u001B[49m\n\u001B[0;32m     41\u001B[0m \u001B[43m      \u001B[49m\u001B[43mis_extension\u001B[49m\u001B[38;5;241;43m=\u001B[39;49m\u001B[38;5;28;43;01mFalse\u001B[39;49;00m\u001B[43m,\u001B[49m\u001B[43m \u001B[49m\u001B[43mextension_scope\u001B[49m\u001B[38;5;241;43m=\u001B[39;49m\u001B[38;5;28;43;01mNone\u001B[39;49;00m\u001B[43m,\u001B[49m\n\u001B[0;32m     42\u001B[0m \u001B[43m      \u001B[49m\u001B[43mserialized_options\u001B[49m\u001B[38;5;241;43m=\u001B[39;49m\u001B[38;5;28;43;01mNone\u001B[39;49;00m\u001B[43m,\u001B[49m\u001B[43m \u001B[49m\u001B[43mfile\u001B[49m\u001B[38;5;241;43m=\u001B[39;49m\u001B[43mDESCRIPTOR\u001B[49m\u001B[43m)\u001B[49m,\n\u001B[0;32m     43\u001B[0m     _descriptor\u001B[38;5;241m.\u001B[39mFieldDescriptor(\n\u001B[0;32m     44\u001B[0m       name\u001B[38;5;241m=\u001B[39m\u001B[38;5;124m'\u001B[39m\u001B[38;5;124mnum_visualizations\u001B[39m\u001B[38;5;124m'\u001B[39m, full_name\u001B[38;5;241m=\u001B[39m\u001B[38;5;124m'\u001B[39m\u001B[38;5;124mobject_detection.protos.EvalConfig.num_visualizations\u001B[39m\u001B[38;5;124m'\u001B[39m, index\u001B[38;5;241m=\u001B[39m\u001B[38;5;241m1\u001B[39m,\n\u001B[0;32m     45\u001B[0m       number\u001B[38;5;241m=\u001B[39m\u001B[38;5;241m1\u001B[39m, \u001B[38;5;28mtype\u001B[39m\u001B[38;5;241m=\u001B[39m\u001B[38;5;241m13\u001B[39m, cpp_type\u001B[38;5;241m=\u001B[39m\u001B[38;5;241m3\u001B[39m, label\u001B[38;5;241m=\u001B[39m\u001B[38;5;241m1\u001B[39m,\n\u001B[0;32m     46\u001B[0m       has_default_value\u001B[38;5;241m=\u001B[39m\u001B[38;5;28;01mTrue\u001B[39;00m, default_value\u001B[38;5;241m=\u001B[39m\u001B[38;5;241m10\u001B[39m,\n\u001B[0;32m     47\u001B[0m       message_type\u001B[38;5;241m=\u001B[39m\u001B[38;5;28;01mNone\u001B[39;00m, enum_type\u001B[38;5;241m=\u001B[39m\u001B[38;5;28;01mNone\u001B[39;00m, containing_type\u001B[38;5;241m=\u001B[39m\u001B[38;5;28;01mNone\u001B[39;00m,\n\u001B[0;32m     48\u001B[0m       is_extension\u001B[38;5;241m=\u001B[39m\u001B[38;5;28;01mFalse\u001B[39;00m, extension_scope\u001B[38;5;241m=\u001B[39m\u001B[38;5;28;01mNone\u001B[39;00m,\n\u001B[0;32m     49\u001B[0m       serialized_options\u001B[38;5;241m=\u001B[39m\u001B[38;5;28;01mNone\u001B[39;00m, file\u001B[38;5;241m=\u001B[39mDESCRIPTOR),\n\u001B[0;32m     50\u001B[0m     _descriptor\u001B[38;5;241m.\u001B[39mFieldDescriptor(\n\u001B[0;32m     51\u001B[0m       name\u001B[38;5;241m=\u001B[39m\u001B[38;5;124m'\u001B[39m\u001B[38;5;124mnum_examples\u001B[39m\u001B[38;5;124m'\u001B[39m, full_name\u001B[38;5;241m=\u001B[39m\u001B[38;5;124m'\u001B[39m\u001B[38;5;124mobject_detection.protos.EvalConfig.num_examples\u001B[39m\u001B[38;5;124m'\u001B[39m, index\u001B[38;5;241m=\u001B[39m\u001B[38;5;241m2\u001B[39m,\n\u001B[0;32m     52\u001B[0m       number\u001B[38;5;241m=\u001B[39m\u001B[38;5;241m2\u001B[39m, \u001B[38;5;28mtype\u001B[39m\u001B[38;5;241m=\u001B[39m\u001B[38;5;241m13\u001B[39m, cpp_type\u001B[38;5;241m=\u001B[39m\u001B[38;5;241m3\u001B[39m, label\u001B[38;5;241m=\u001B[39m\u001B[38;5;241m1\u001B[39m,\n\u001B[0;32m     53\u001B[0m       has_default_value\u001B[38;5;241m=\u001B[39m\u001B[38;5;28;01mTrue\u001B[39;00m, default_value\u001B[38;5;241m=\u001B[39m\u001B[38;5;241m5000\u001B[39m,\n\u001B[0;32m     54\u001B[0m       message_type\u001B[38;5;241m=\u001B[39m\u001B[38;5;28;01mNone\u001B[39;00m, enum_type\u001B[38;5;241m=\u001B[39m\u001B[38;5;28;01mNone\u001B[39;00m, containing_type\u001B[38;5;241m=\u001B[39m\u001B[38;5;28;01mNone\u001B[39;00m,\n\u001B[0;32m     55\u001B[0m       is_extension\u001B[38;5;241m=\u001B[39m\u001B[38;5;28;01mFalse\u001B[39;00m, extension_scope\u001B[38;5;241m=\u001B[39m\u001B[38;5;28;01mNone\u001B[39;00m,\n\u001B[0;32m     56\u001B[0m       serialized_options\u001B[38;5;241m=\u001B[39m_b(\u001B[38;5;124m'\u001B[39m\u001B[38;5;130;01m\\030\u001B[39;00m\u001B[38;5;130;01m\\001\u001B[39;00m\u001B[38;5;124m'\u001B[39m), file\u001B[38;5;241m=\u001B[39mDESCRIPTOR),\n\u001B[0;32m     57\u001B[0m     _descriptor\u001B[38;5;241m.\u001B[39mFieldDescriptor(\n\u001B[0;32m     58\u001B[0m       name\u001B[38;5;241m=\u001B[39m\u001B[38;5;124m'\u001B[39m\u001B[38;5;124meval_interval_secs\u001B[39m\u001B[38;5;124m'\u001B[39m, full_name\u001B[38;5;241m=\u001B[39m\u001B[38;5;124m'\u001B[39m\u001B[38;5;124mobject_detection.protos.EvalConfig.eval_interval_secs\u001B[39m\u001B[38;5;124m'\u001B[39m, index\u001B[38;5;241m=\u001B[39m\u001B[38;5;241m3\u001B[39m,\n\u001B[0;32m     59\u001B[0m       number\u001B[38;5;241m=\u001B[39m\u001B[38;5;241m3\u001B[39m, \u001B[38;5;28mtype\u001B[39m\u001B[38;5;241m=\u001B[39m\u001B[38;5;241m13\u001B[39m, cpp_type\u001B[38;5;241m=\u001B[39m\u001B[38;5;241m3\u001B[39m, label\u001B[38;5;241m=\u001B[39m\u001B[38;5;241m1\u001B[39m,\n\u001B[0;32m     60\u001B[0m       has_default_value\u001B[38;5;241m=\u001B[39m\u001B[38;5;28;01mTrue\u001B[39;00m, default_value\u001B[38;5;241m=\u001B[39m\u001B[38;5;241m300\u001B[39m,\n\u001B[0;32m     61\u001B[0m       message_type\u001B[38;5;241m=\u001B[39m\u001B[38;5;28;01mNone\u001B[39;00m, enum_type\u001B[38;5;241m=\u001B[39m\u001B[38;5;28;01mNone\u001B[39;00m, containing_type\u001B[38;5;241m=\u001B[39m\u001B[38;5;28;01mNone\u001B[39;00m,\n\u001B[0;32m     62\u001B[0m       is_extension\u001B[38;5;241m=\u001B[39m\u001B[38;5;28;01mFalse\u001B[39;00m, extension_scope\u001B[38;5;241m=\u001B[39m\u001B[38;5;28;01mNone\u001B[39;00m,\n\u001B[0;32m     63\u001B[0m       serialized_options\u001B[38;5;241m=\u001B[39m\u001B[38;5;28;01mNone\u001B[39;00m, file\u001B[38;5;241m=\u001B[39mDESCRIPTOR),\n\u001B[0;32m     64\u001B[0m     _descriptor\u001B[38;5;241m.\u001B[39mFieldDescriptor(\n\u001B[0;32m     65\u001B[0m       name\u001B[38;5;241m=\u001B[39m\u001B[38;5;124m'\u001B[39m\u001B[38;5;124mmax_evals\u001B[39m\u001B[38;5;124m'\u001B[39m, full_name\u001B[38;5;241m=\u001B[39m\u001B[38;5;124m'\u001B[39m\u001B[38;5;124mobject_detection.protos.EvalConfig.max_evals\u001B[39m\u001B[38;5;124m'\u001B[39m, index\u001B[38;5;241m=\u001B[39m\u001B[38;5;241m4\u001B[39m,\n\u001B[0;32m     66\u001B[0m       number\u001B[38;5;241m=\u001B[39m\u001B[38;5;241m4\u001B[39m, \u001B[38;5;28mtype\u001B[39m\u001B[38;5;241m=\u001B[39m\u001B[38;5;241m13\u001B[39m, cpp_type\u001B[38;5;241m=\u001B[39m\u001B[38;5;241m3\u001B[39m, label\u001B[38;5;241m=\u001B[39m\u001B[38;5;241m1\u001B[39m,\n\u001B[0;32m     67\u001B[0m       has_default_value\u001B[38;5;241m=\u001B[39m\u001B[38;5;28;01mTrue\u001B[39;00m, default_value\u001B[38;5;241m=\u001B[39m\u001B[38;5;241m0\u001B[39m,\n\u001B[0;32m     68\u001B[0m       message_type\u001B[38;5;241m=\u001B[39m\u001B[38;5;28;01mNone\u001B[39;00m, enum_type\u001B[38;5;241m=\u001B[39m\u001B[38;5;28;01mNone\u001B[39;00m, containing_type\u001B[38;5;241m=\u001B[39m\u001B[38;5;28;01mNone\u001B[39;00m,\n\u001B[0;32m     69\u001B[0m       is_extension\u001B[38;5;241m=\u001B[39m\u001B[38;5;28;01mFalse\u001B[39;00m, extension_scope\u001B[38;5;241m=\u001B[39m\u001B[38;5;28;01mNone\u001B[39;00m,\n\u001B[0;32m     70\u001B[0m       serialized_options\u001B[38;5;241m=\u001B[39m_b(\u001B[38;5;124m'\u001B[39m\u001B[38;5;130;01m\\030\u001B[39;00m\u001B[38;5;130;01m\\001\u001B[39;00m\u001B[38;5;124m'\u001B[39m), file\u001B[38;5;241m=\u001B[39mDESCRIPTOR),\n\u001B[0;32m     71\u001B[0m     _descriptor\u001B[38;5;241m.\u001B[39mFieldDescriptor(\n\u001B[0;32m     72\u001B[0m       name\u001B[38;5;241m=\u001B[39m\u001B[38;5;124m'\u001B[39m\u001B[38;5;124msave_graph\u001B[39m\u001B[38;5;124m'\u001B[39m, full_name\u001B[38;5;241m=\u001B[39m\u001B[38;5;124m'\u001B[39m\u001B[38;5;124mobject_detection.protos.EvalConfig.save_graph\u001B[39m\u001B[38;5;124m'\u001B[39m, index\u001B[38;5;241m=\u001B[39m\u001B[38;5;241m5\u001B[39m,\n\u001B[0;32m     73\u001B[0m       number\u001B[38;5;241m=\u001B[39m\u001B[38;5;241m5\u001B[39m, \u001B[38;5;28mtype\u001B[39m\u001B[38;5;241m=\u001B[39m\u001B[38;5;241m8\u001B[39m, cpp_type\u001B[38;5;241m=\u001B[39m\u001B[38;5;241m7\u001B[39m, label\u001B[38;5;241m=\u001B[39m\u001B[38;5;241m1\u001B[39m,\n\u001B[0;32m     74\u001B[0m       has_default_value\u001B[38;5;241m=\u001B[39m\u001B[38;5;28;01mTrue\u001B[39;00m, default_value\u001B[38;5;241m=\u001B[39m\u001B[38;5;28;01mFalse\u001B[39;00m,\n\u001B[0;32m     75\u001B[0m       message_type\u001B[38;5;241m=\u001B[39m\u001B[38;5;28;01mNone\u001B[39;00m, enum_type\u001B[38;5;241m=\u001B[39m\u001B[38;5;28;01mNone\u001B[39;00m, containing_type\u001B[38;5;241m=\u001B[39m\u001B[38;5;28;01mNone\u001B[39;00m,\n\u001B[0;32m     76\u001B[0m       is_extension\u001B[38;5;241m=\u001B[39m\u001B[38;5;28;01mFalse\u001B[39;00m, extension_scope\u001B[38;5;241m=\u001B[39m\u001B[38;5;28;01mNone\u001B[39;00m,\n\u001B[0;32m     77\u001B[0m       serialized_options\u001B[38;5;241m=\u001B[39m\u001B[38;5;28;01mNone\u001B[39;00m, file\u001B[38;5;241m=\u001B[39mDESCRIPTOR),\n\u001B[0;32m     78\u001B[0m     _descriptor\u001B[38;5;241m.\u001B[39mFieldDescriptor(\n\u001B[0;32m     79\u001B[0m       name\u001B[38;5;241m=\u001B[39m\u001B[38;5;124m'\u001B[39m\u001B[38;5;124mvisualization_export_dir\u001B[39m\u001B[38;5;124m'\u001B[39m, full_name\u001B[38;5;241m=\u001B[39m\u001B[38;5;124m'\u001B[39m\u001B[38;5;124mobject_detection.protos.EvalConfig.visualization_export_dir\u001B[39m\u001B[38;5;124m'\u001B[39m, index\u001B[38;5;241m=\u001B[39m\u001B[38;5;241m6\u001B[39m,\n\u001B[0;32m     80\u001B[0m       number\u001B[38;5;241m=\u001B[39m\u001B[38;5;241m6\u001B[39m, \u001B[38;5;28mtype\u001B[39m\u001B[38;5;241m=\u001B[39m\u001B[38;5;241m9\u001B[39m, cpp_type\u001B[38;5;241m=\u001B[39m\u001B[38;5;241m9\u001B[39m, label\u001B[38;5;241m=\u001B[39m\u001B[38;5;241m1\u001B[39m,\n\u001B[0;32m     81\u001B[0m       has_default_value\u001B[38;5;241m=\u001B[39m\u001B[38;5;28;01mTrue\u001B[39;00m, default_value\u001B[38;5;241m=\u001B[39m_b(\u001B[38;5;124m\"\u001B[39m\u001B[38;5;124m\"\u001B[39m)\u001B[38;5;241m.\u001B[39mdecode(\u001B[38;5;124m'\u001B[39m\u001B[38;5;124mutf-8\u001B[39m\u001B[38;5;124m'\u001B[39m),\n\u001B[0;32m     82\u001B[0m       message_type\u001B[38;5;241m=\u001B[39m\u001B[38;5;28;01mNone\u001B[39;00m, enum_type\u001B[38;5;241m=\u001B[39m\u001B[38;5;28;01mNone\u001B[39;00m, containing_type\u001B[38;5;241m=\u001B[39m\u001B[38;5;28;01mNone\u001B[39;00m,\n\u001B[0;32m     83\u001B[0m       is_extension\u001B[38;5;241m=\u001B[39m\u001B[38;5;28;01mFalse\u001B[39;00m, extension_scope\u001B[38;5;241m=\u001B[39m\u001B[38;5;28;01mNone\u001B[39;00m,\n\u001B[0;32m     84\u001B[0m       serialized_options\u001B[38;5;241m=\u001B[39m\u001B[38;5;28;01mNone\u001B[39;00m, file\u001B[38;5;241m=\u001B[39mDESCRIPTOR),\n\u001B[0;32m     85\u001B[0m     _descriptor\u001B[38;5;241m.\u001B[39mFieldDescriptor(\n\u001B[0;32m     86\u001B[0m       name\u001B[38;5;241m=\u001B[39m\u001B[38;5;124m'\u001B[39m\u001B[38;5;124meval_master\u001B[39m\u001B[38;5;124m'\u001B[39m, full_name\u001B[38;5;241m=\u001B[39m\u001B[38;5;124m'\u001B[39m\u001B[38;5;124mobject_detection.protos.EvalConfig.eval_master\u001B[39m\u001B[38;5;124m'\u001B[39m, index\u001B[38;5;241m=\u001B[39m\u001B[38;5;241m7\u001B[39m,\n\u001B[0;32m     87\u001B[0m       number\u001B[38;5;241m=\u001B[39m\u001B[38;5;241m7\u001B[39m, \u001B[38;5;28mtype\u001B[39m\u001B[38;5;241m=\u001B[39m\u001B[38;5;241m9\u001B[39m, cpp_type\u001B[38;5;241m=\u001B[39m\u001B[38;5;241m9\u001B[39m, label\u001B[38;5;241m=\u001B[39m\u001B[38;5;241m1\u001B[39m,\n\u001B[0;32m     88\u001B[0m       has_default_value\u001B[38;5;241m=\u001B[39m\u001B[38;5;28;01mTrue\u001B[39;00m, default_value\u001B[38;5;241m=\u001B[39m_b(\u001B[38;5;124m\"\u001B[39m\u001B[38;5;124m\"\u001B[39m)\u001B[38;5;241m.\u001B[39mdecode(\u001B[38;5;124m'\u001B[39m\u001B[38;5;124mutf-8\u001B[39m\u001B[38;5;124m'\u001B[39m),\n\u001B[0;32m     89\u001B[0m       message_type\u001B[38;5;241m=\u001B[39m\u001B[38;5;28;01mNone\u001B[39;00m, enum_type\u001B[38;5;241m=\u001B[39m\u001B[38;5;28;01mNone\u001B[39;00m, containing_type\u001B[38;5;241m=\u001B[39m\u001B[38;5;28;01mNone\u001B[39;00m,\n\u001B[0;32m     90\u001B[0m       is_extension\u001B[38;5;241m=\u001B[39m\u001B[38;5;28;01mFalse\u001B[39;00m, extension_scope\u001B[38;5;241m=\u001B[39m\u001B[38;5;28;01mNone\u001B[39;00m,\n\u001B[0;32m     91\u001B[0m       serialized_options\u001B[38;5;241m=\u001B[39m\u001B[38;5;28;01mNone\u001B[39;00m, file\u001B[38;5;241m=\u001B[39mDESCRIPTOR),\n\u001B[0;32m     92\u001B[0m     _descriptor\u001B[38;5;241m.\u001B[39mFieldDescriptor(\n\u001B[0;32m     93\u001B[0m       name\u001B[38;5;241m=\u001B[39m\u001B[38;5;124m'\u001B[39m\u001B[38;5;124mmetrics_set\u001B[39m\u001B[38;5;124m'\u001B[39m, full_name\u001B[38;5;241m=\u001B[39m\u001B[38;5;124m'\u001B[39m\u001B[38;5;124mobject_detection.protos.EvalConfig.metrics_set\u001B[39m\u001B[38;5;124m'\u001B[39m, index\u001B[38;5;241m=\u001B[39m\u001B[38;5;241m8\u001B[39m,\n\u001B[0;32m     94\u001B[0m       number\u001B[38;5;241m=\u001B[39m\u001B[38;5;241m8\u001B[39m, \u001B[38;5;28mtype\u001B[39m\u001B[38;5;241m=\u001B[39m\u001B[38;5;241m9\u001B[39m, cpp_type\u001B[38;5;241m=\u001B[39m\u001B[38;5;241m9\u001B[39m, label\u001B[38;5;241m=\u001B[39m\u001B[38;5;241m3\u001B[39m,\n\u001B[0;32m     95\u001B[0m       has_default_value\u001B[38;5;241m=\u001B[39m\u001B[38;5;28;01mFalse\u001B[39;00m, default_value\u001B[38;5;241m=\u001B[39m[],\n\u001B[0;32m     96\u001B[0m       message_type\u001B[38;5;241m=\u001B[39m\u001B[38;5;28;01mNone\u001B[39;00m, enum_type\u001B[38;5;241m=\u001B[39m\u001B[38;5;28;01mNone\u001B[39;00m, containing_type\u001B[38;5;241m=\u001B[39m\u001B[38;5;28;01mNone\u001B[39;00m,\n\u001B[0;32m     97\u001B[0m       is_extension\u001B[38;5;241m=\u001B[39m\u001B[38;5;28;01mFalse\u001B[39;00m, extension_scope\u001B[38;5;241m=\u001B[39m\u001B[38;5;28;01mNone\u001B[39;00m,\n\u001B[0;32m     98\u001B[0m       serialized_options\u001B[38;5;241m=\u001B[39m\u001B[38;5;28;01mNone\u001B[39;00m, file\u001B[38;5;241m=\u001B[39mDESCRIPTOR),\n\u001B[0;32m     99\u001B[0m     _descriptor\u001B[38;5;241m.\u001B[39mFieldDescriptor(\n\u001B[0;32m    100\u001B[0m       name\u001B[38;5;241m=\u001B[39m\u001B[38;5;124m'\u001B[39m\u001B[38;5;124mexport_path\u001B[39m\u001B[38;5;124m'\u001B[39m, full_name\u001B[38;5;241m=\u001B[39m\u001B[38;5;124m'\u001B[39m\u001B[38;5;124mobject_detection.protos.EvalConfig.export_path\u001B[39m\u001B[38;5;124m'\u001B[39m, index\u001B[38;5;241m=\u001B[39m\u001B[38;5;241m9\u001B[39m,\n\u001B[0;32m    101\u001B[0m       number\u001B[38;5;241m=\u001B[39m\u001B[38;5;241m9\u001B[39m, \u001B[38;5;28mtype\u001B[39m\u001B[38;5;241m=\u001B[39m\u001B[38;5;241m9\u001B[39m, cpp_type\u001B[38;5;241m=\u001B[39m\u001B[38;5;241m9\u001B[39m, label\u001B[38;5;241m=\u001B[39m\u001B[38;5;241m1\u001B[39m,\n\u001B[0;32m    102\u001B[0m       has_default_value\u001B[38;5;241m=\u001B[39m\u001B[38;5;28;01mTrue\u001B[39;00m, default_value\u001B[38;5;241m=\u001B[39m_b(\u001B[38;5;124m\"\u001B[39m\u001B[38;5;124m\"\u001B[39m)\u001B[38;5;241m.\u001B[39mdecode(\u001B[38;5;124m'\u001B[39m\u001B[38;5;124mutf-8\u001B[39m\u001B[38;5;124m'\u001B[39m),\n\u001B[0;32m    103\u001B[0m       message_type\u001B[38;5;241m=\u001B[39m\u001B[38;5;28;01mNone\u001B[39;00m, enum_type\u001B[38;5;241m=\u001B[39m\u001B[38;5;28;01mNone\u001B[39;00m, containing_type\u001B[38;5;241m=\u001B[39m\u001B[38;5;28;01mNone\u001B[39;00m,\n\u001B[0;32m    104\u001B[0m       is_extension\u001B[38;5;241m=\u001B[39m\u001B[38;5;28;01mFalse\u001B[39;00m, extension_scope\u001B[38;5;241m=\u001B[39m\u001B[38;5;28;01mNone\u001B[39;00m,\n\u001B[0;32m    105\u001B[0m       serialized_options\u001B[38;5;241m=\u001B[39m\u001B[38;5;28;01mNone\u001B[39;00m, file\u001B[38;5;241m=\u001B[39mDESCRIPTOR),\n\u001B[0;32m    106\u001B[0m     _descriptor\u001B[38;5;241m.\u001B[39mFieldDescriptor(\n\u001B[0;32m    107\u001B[0m       name\u001B[38;5;241m=\u001B[39m\u001B[38;5;124m'\u001B[39m\u001B[38;5;124mignore_groundtruth\u001B[39m\u001B[38;5;124m'\u001B[39m, full_name\u001B[38;5;241m=\u001B[39m\u001B[38;5;124m'\u001B[39m\u001B[38;5;124mobject_detection.protos.EvalConfig.ignore_groundtruth\u001B[39m\u001B[38;5;124m'\u001B[39m, index\u001B[38;5;241m=\u001B[39m\u001B[38;5;241m10\u001B[39m,\n\u001B[0;32m    108\u001B[0m       number\u001B[38;5;241m=\u001B[39m\u001B[38;5;241m10\u001B[39m, \u001B[38;5;28mtype\u001B[39m\u001B[38;5;241m=\u001B[39m\u001B[38;5;241m8\u001B[39m, cpp_type\u001B[38;5;241m=\u001B[39m\u001B[38;5;241m7\u001B[39m, label\u001B[38;5;241m=\u001B[39m\u001B[38;5;241m1\u001B[39m,\n\u001B[0;32m    109\u001B[0m       has_default_value\u001B[38;5;241m=\u001B[39m\u001B[38;5;28;01mTrue\u001B[39;00m, default_value\u001B[38;5;241m=\u001B[39m\u001B[38;5;28;01mFalse\u001B[39;00m,\n\u001B[0;32m    110\u001B[0m       message_type\u001B[38;5;241m=\u001B[39m\u001B[38;5;28;01mNone\u001B[39;00m, enum_type\u001B[38;5;241m=\u001B[39m\u001B[38;5;28;01mNone\u001B[39;00m, containing_type\u001B[38;5;241m=\u001B[39m\u001B[38;5;28;01mNone\u001B[39;00m,\n\u001B[0;32m    111\u001B[0m       is_extension\u001B[38;5;241m=\u001B[39m\u001B[38;5;28;01mFalse\u001B[39;00m, extension_scope\u001B[38;5;241m=\u001B[39m\u001B[38;5;28;01mNone\u001B[39;00m,\n\u001B[0;32m    112\u001B[0m       serialized_options\u001B[38;5;241m=\u001B[39m\u001B[38;5;28;01mNone\u001B[39;00m, file\u001B[38;5;241m=\u001B[39mDESCRIPTOR),\n\u001B[0;32m    113\u001B[0m     _descriptor\u001B[38;5;241m.\u001B[39mFieldDescriptor(\n\u001B[0;32m    114\u001B[0m       name\u001B[38;5;241m=\u001B[39m\u001B[38;5;124m'\u001B[39m\u001B[38;5;124muse_moving_averages\u001B[39m\u001B[38;5;124m'\u001B[39m, full_name\u001B[38;5;241m=\u001B[39m\u001B[38;5;124m'\u001B[39m\u001B[38;5;124mobject_detection.protos.EvalConfig.use_moving_averages\u001B[39m\u001B[38;5;124m'\u001B[39m, index\u001B[38;5;241m=\u001B[39m\u001B[38;5;241m11\u001B[39m,\n\u001B[0;32m    115\u001B[0m       number\u001B[38;5;241m=\u001B[39m\u001B[38;5;241m11\u001B[39m, \u001B[38;5;28mtype\u001B[39m\u001B[38;5;241m=\u001B[39m\u001B[38;5;241m8\u001B[39m, cpp_type\u001B[38;5;241m=\u001B[39m\u001B[38;5;241m7\u001B[39m, label\u001B[38;5;241m=\u001B[39m\u001B[38;5;241m1\u001B[39m,\n\u001B[0;32m    116\u001B[0m       has_default_value\u001B[38;5;241m=\u001B[39m\u001B[38;5;28;01mTrue\u001B[39;00m, default_value\u001B[38;5;241m=\u001B[39m\u001B[38;5;28;01mFalse\u001B[39;00m,\n\u001B[0;32m    117\u001B[0m       message_type\u001B[38;5;241m=\u001B[39m\u001B[38;5;28;01mNone\u001B[39;00m, enum_type\u001B[38;5;241m=\u001B[39m\u001B[38;5;28;01mNone\u001B[39;00m, containing_type\u001B[38;5;241m=\u001B[39m\u001B[38;5;28;01mNone\u001B[39;00m,\n\u001B[0;32m    118\u001B[0m       is_extension\u001B[38;5;241m=\u001B[39m\u001B[38;5;28;01mFalse\u001B[39;00m, extension_scope\u001B[38;5;241m=\u001B[39m\u001B[38;5;28;01mNone\u001B[39;00m,\n\u001B[0;32m    119\u001B[0m       serialized_options\u001B[38;5;241m=\u001B[39m\u001B[38;5;28;01mNone\u001B[39;00m, file\u001B[38;5;241m=\u001B[39mDESCRIPTOR),\n\u001B[0;32m    120\u001B[0m     _descriptor\u001B[38;5;241m.\u001B[39mFieldDescriptor(\n\u001B[0;32m    121\u001B[0m       name\u001B[38;5;241m=\u001B[39m\u001B[38;5;124m'\u001B[39m\u001B[38;5;124meval_instance_masks\u001B[39m\u001B[38;5;124m'\u001B[39m, full_name\u001B[38;5;241m=\u001B[39m\u001B[38;5;124m'\u001B[39m\u001B[38;5;124mobject_detection.protos.EvalConfig.eval_instance_masks\u001B[39m\u001B[38;5;124m'\u001B[39m, index\u001B[38;5;241m=\u001B[39m\u001B[38;5;241m12\u001B[39m,\n\u001B[0;32m    122\u001B[0m       number\u001B[38;5;241m=\u001B[39m\u001B[38;5;241m12\u001B[39m, \u001B[38;5;28mtype\u001B[39m\u001B[38;5;241m=\u001B[39m\u001B[38;5;241m8\u001B[39m, cpp_type\u001B[38;5;241m=\u001B[39m\u001B[38;5;241m7\u001B[39m, label\u001B[38;5;241m=\u001B[39m\u001B[38;5;241m1\u001B[39m,\n\u001B[0;32m    123\u001B[0m       has_default_value\u001B[38;5;241m=\u001B[39m\u001B[38;5;28;01mTrue\u001B[39;00m, default_value\u001B[38;5;241m=\u001B[39m\u001B[38;5;28;01mFalse\u001B[39;00m,\n\u001B[0;32m    124\u001B[0m       message_type\u001B[38;5;241m=\u001B[39m\u001B[38;5;28;01mNone\u001B[39;00m, enum_type\u001B[38;5;241m=\u001B[39m\u001B[38;5;28;01mNone\u001B[39;00m, containing_type\u001B[38;5;241m=\u001B[39m\u001B[38;5;28;01mNone\u001B[39;00m,\n\u001B[0;32m    125\u001B[0m       is_extension\u001B[38;5;241m=\u001B[39m\u001B[38;5;28;01mFalse\u001B[39;00m, extension_scope\u001B[38;5;241m=\u001B[39m\u001B[38;5;28;01mNone\u001B[39;00m,\n\u001B[0;32m    126\u001B[0m       serialized_options\u001B[38;5;241m=\u001B[39m\u001B[38;5;28;01mNone\u001B[39;00m, file\u001B[38;5;241m=\u001B[39mDESCRIPTOR),\n\u001B[0;32m    127\u001B[0m     _descriptor\u001B[38;5;241m.\u001B[39mFieldDescriptor(\n\u001B[0;32m    128\u001B[0m       name\u001B[38;5;241m=\u001B[39m\u001B[38;5;124m'\u001B[39m\u001B[38;5;124mmin_score_threshold\u001B[39m\u001B[38;5;124m'\u001B[39m, full_name\u001B[38;5;241m=\u001B[39m\u001B[38;5;124m'\u001B[39m\u001B[38;5;124mobject_detection.protos.EvalConfig.min_score_threshold\u001B[39m\u001B[38;5;124m'\u001B[39m, index\u001B[38;5;241m=\u001B[39m\u001B[38;5;241m13\u001B[39m,\n\u001B[0;32m    129\u001B[0m       number\u001B[38;5;241m=\u001B[39m\u001B[38;5;241m13\u001B[39m, \u001B[38;5;28mtype\u001B[39m\u001B[38;5;241m=\u001B[39m\u001B[38;5;241m2\u001B[39m, cpp_type\u001B[38;5;241m=\u001B[39m\u001B[38;5;241m6\u001B[39m, label\u001B[38;5;241m=\u001B[39m\u001B[38;5;241m1\u001B[39m,\n\u001B[0;32m    130\u001B[0m       has_default_value\u001B[38;5;241m=\u001B[39m\u001B[38;5;28;01mTrue\u001B[39;00m, default_value\u001B[38;5;241m=\u001B[39m\u001B[38;5;28mfloat\u001B[39m(\u001B[38;5;241m0.5\u001B[39m),\n\u001B[0;32m    131\u001B[0m       message_type\u001B[38;5;241m=\u001B[39m\u001B[38;5;28;01mNone\u001B[39;00m, enum_type\u001B[38;5;241m=\u001B[39m\u001B[38;5;28;01mNone\u001B[39;00m, containing_type\u001B[38;5;241m=\u001B[39m\u001B[38;5;28;01mNone\u001B[39;00m,\n\u001B[0;32m    132\u001B[0m       is_extension\u001B[38;5;241m=\u001B[39m\u001B[38;5;28;01mFalse\u001B[39;00m, extension_scope\u001B[38;5;241m=\u001B[39m\u001B[38;5;28;01mNone\u001B[39;00m,\n\u001B[0;32m    133\u001B[0m       serialized_options\u001B[38;5;241m=\u001B[39m\u001B[38;5;28;01mNone\u001B[39;00m, file\u001B[38;5;241m=\u001B[39mDESCRIPTOR),\n\u001B[0;32m    134\u001B[0m     _descriptor\u001B[38;5;241m.\u001B[39mFieldDescriptor(\n\u001B[0;32m    135\u001B[0m       name\u001B[38;5;241m=\u001B[39m\u001B[38;5;124m'\u001B[39m\u001B[38;5;124mmax_num_boxes_to_visualize\u001B[39m\u001B[38;5;124m'\u001B[39m, full_name\u001B[38;5;241m=\u001B[39m\u001B[38;5;124m'\u001B[39m\u001B[38;5;124mobject_detection.protos.EvalConfig.max_num_boxes_to_visualize\u001B[39m\u001B[38;5;124m'\u001B[39m, index\u001B[38;5;241m=\u001B[39m\u001B[38;5;241m14\u001B[39m,\n\u001B[0;32m    136\u001B[0m       number\u001B[38;5;241m=\u001B[39m\u001B[38;5;241m14\u001B[39m, \u001B[38;5;28mtype\u001B[39m\u001B[38;5;241m=\u001B[39m\u001B[38;5;241m5\u001B[39m, cpp_type\u001B[38;5;241m=\u001B[39m\u001B[38;5;241m1\u001B[39m, label\u001B[38;5;241m=\u001B[39m\u001B[38;5;241m1\u001B[39m,\n\u001B[0;32m    137\u001B[0m       has_default_value\u001B[38;5;241m=\u001B[39m\u001B[38;5;28;01mTrue\u001B[39;00m, default_value\u001B[38;5;241m=\u001B[39m\u001B[38;5;241m20\u001B[39m,\n\u001B[0;32m    138\u001B[0m       message_type\u001B[38;5;241m=\u001B[39m\u001B[38;5;28;01mNone\u001B[39;00m, enum_type\u001B[38;5;241m=\u001B[39m\u001B[38;5;28;01mNone\u001B[39;00m, containing_type\u001B[38;5;241m=\u001B[39m\u001B[38;5;28;01mNone\u001B[39;00m,\n\u001B[0;32m    139\u001B[0m       is_extension\u001B[38;5;241m=\u001B[39m\u001B[38;5;28;01mFalse\u001B[39;00m, extension_scope\u001B[38;5;241m=\u001B[39m\u001B[38;5;28;01mNone\u001B[39;00m,\n\u001B[0;32m    140\u001B[0m       serialized_options\u001B[38;5;241m=\u001B[39m\u001B[38;5;28;01mNone\u001B[39;00m, file\u001B[38;5;241m=\u001B[39mDESCRIPTOR),\n\u001B[0;32m    141\u001B[0m     _descriptor\u001B[38;5;241m.\u001B[39mFieldDescriptor(\n\u001B[0;32m    142\u001B[0m       name\u001B[38;5;241m=\u001B[39m\u001B[38;5;124m'\u001B[39m\u001B[38;5;124mskip_scores\u001B[39m\u001B[38;5;124m'\u001B[39m, full_name\u001B[38;5;241m=\u001B[39m\u001B[38;5;124m'\u001B[39m\u001B[38;5;124mobject_detection.protos.EvalConfig.skip_scores\u001B[39m\u001B[38;5;124m'\u001B[39m, index\u001B[38;5;241m=\u001B[39m\u001B[38;5;241m15\u001B[39m,\n\u001B[0;32m    143\u001B[0m       number\u001B[38;5;241m=\u001B[39m\u001B[38;5;241m15\u001B[39m, \u001B[38;5;28mtype\u001B[39m\u001B[38;5;241m=\u001B[39m\u001B[38;5;241m8\u001B[39m, cpp_type\u001B[38;5;241m=\u001B[39m\u001B[38;5;241m7\u001B[39m, label\u001B[38;5;241m=\u001B[39m\u001B[38;5;241m1\u001B[39m,\n\u001B[0;32m    144\u001B[0m       has_default_value\u001B[38;5;241m=\u001B[39m\u001B[38;5;28;01mTrue\u001B[39;00m, default_value\u001B[38;5;241m=\u001B[39m\u001B[38;5;28;01mFalse\u001B[39;00m,\n\u001B[0;32m    145\u001B[0m       message_type\u001B[38;5;241m=\u001B[39m\u001B[38;5;28;01mNone\u001B[39;00m, enum_type\u001B[38;5;241m=\u001B[39m\u001B[38;5;28;01mNone\u001B[39;00m, containing_type\u001B[38;5;241m=\u001B[39m\u001B[38;5;28;01mNone\u001B[39;00m,\n\u001B[0;32m    146\u001B[0m       is_extension\u001B[38;5;241m=\u001B[39m\u001B[38;5;28;01mFalse\u001B[39;00m, extension_scope\u001B[38;5;241m=\u001B[39m\u001B[38;5;28;01mNone\u001B[39;00m,\n\u001B[0;32m    147\u001B[0m       serialized_options\u001B[38;5;241m=\u001B[39m\u001B[38;5;28;01mNone\u001B[39;00m, file\u001B[38;5;241m=\u001B[39mDESCRIPTOR),\n\u001B[0;32m    148\u001B[0m     _descriptor\u001B[38;5;241m.\u001B[39mFieldDescriptor(\n\u001B[0;32m    149\u001B[0m       name\u001B[38;5;241m=\u001B[39m\u001B[38;5;124m'\u001B[39m\u001B[38;5;124mskip_labels\u001B[39m\u001B[38;5;124m'\u001B[39m, full_name\u001B[38;5;241m=\u001B[39m\u001B[38;5;124m'\u001B[39m\u001B[38;5;124mobject_detection.protos.EvalConfig.skip_labels\u001B[39m\u001B[38;5;124m'\u001B[39m, index\u001B[38;5;241m=\u001B[39m\u001B[38;5;241m16\u001B[39m,\n\u001B[0;32m    150\u001B[0m       number\u001B[38;5;241m=\u001B[39m\u001B[38;5;241m16\u001B[39m, \u001B[38;5;28mtype\u001B[39m\u001B[38;5;241m=\u001B[39m\u001B[38;5;241m8\u001B[39m, cpp_type\u001B[38;5;241m=\u001B[39m\u001B[38;5;241m7\u001B[39m, label\u001B[38;5;241m=\u001B[39m\u001B[38;5;241m1\u001B[39m,\n\u001B[0;32m    151\u001B[0m       has_default_value\u001B[38;5;241m=\u001B[39m\u001B[38;5;28;01mTrue\u001B[39;00m, default_value\u001B[38;5;241m=\u001B[39m\u001B[38;5;28;01mFalse\u001B[39;00m,\n\u001B[0;32m    152\u001B[0m       message_type\u001B[38;5;241m=\u001B[39m\u001B[38;5;28;01mNone\u001B[39;00m, enum_type\u001B[38;5;241m=\u001B[39m\u001B[38;5;28;01mNone\u001B[39;00m, containing_type\u001B[38;5;241m=\u001B[39m\u001B[38;5;28;01mNone\u001B[39;00m,\n\u001B[0;32m    153\u001B[0m       is_extension\u001B[38;5;241m=\u001B[39m\u001B[38;5;28;01mFalse\u001B[39;00m, extension_scope\u001B[38;5;241m=\u001B[39m\u001B[38;5;28;01mNone\u001B[39;00m,\n\u001B[0;32m    154\u001B[0m       serialized_options\u001B[38;5;241m=\u001B[39m\u001B[38;5;28;01mNone\u001B[39;00m, file\u001B[38;5;241m=\u001B[39mDESCRIPTOR),\n\u001B[0;32m    155\u001B[0m     _descriptor\u001B[38;5;241m.\u001B[39mFieldDescriptor(\n\u001B[0;32m    156\u001B[0m       name\u001B[38;5;241m=\u001B[39m\u001B[38;5;124m'\u001B[39m\u001B[38;5;124mvisualize_groundtruth_boxes\u001B[39m\u001B[38;5;124m'\u001B[39m, full_name\u001B[38;5;241m=\u001B[39m\u001B[38;5;124m'\u001B[39m\u001B[38;5;124mobject_detection.protos.EvalConfig.visualize_groundtruth_boxes\u001B[39m\u001B[38;5;124m'\u001B[39m, index\u001B[38;5;241m=\u001B[39m\u001B[38;5;241m17\u001B[39m,\n\u001B[0;32m    157\u001B[0m       number\u001B[38;5;241m=\u001B[39m\u001B[38;5;241m17\u001B[39m, \u001B[38;5;28mtype\u001B[39m\u001B[38;5;241m=\u001B[39m\u001B[38;5;241m8\u001B[39m, cpp_type\u001B[38;5;241m=\u001B[39m\u001B[38;5;241m7\u001B[39m, label\u001B[38;5;241m=\u001B[39m\u001B[38;5;241m1\u001B[39m,\n\u001B[0;32m    158\u001B[0m       has_default_value\u001B[38;5;241m=\u001B[39m\u001B[38;5;28;01mTrue\u001B[39;00m, default_value\u001B[38;5;241m=\u001B[39m\u001B[38;5;28;01mFalse\u001B[39;00m,\n\u001B[0;32m    159\u001B[0m       message_type\u001B[38;5;241m=\u001B[39m\u001B[38;5;28;01mNone\u001B[39;00m, enum_type\u001B[38;5;241m=\u001B[39m\u001B[38;5;28;01mNone\u001B[39;00m, containing_type\u001B[38;5;241m=\u001B[39m\u001B[38;5;28;01mNone\u001B[39;00m,\n\u001B[0;32m    160\u001B[0m       is_extension\u001B[38;5;241m=\u001B[39m\u001B[38;5;28;01mFalse\u001B[39;00m, extension_scope\u001B[38;5;241m=\u001B[39m\u001B[38;5;28;01mNone\u001B[39;00m,\n\u001B[0;32m    161\u001B[0m       serialized_options\u001B[38;5;241m=\u001B[39m\u001B[38;5;28;01mNone\u001B[39;00m, file\u001B[38;5;241m=\u001B[39mDESCRIPTOR),\n\u001B[0;32m    162\u001B[0m     _descriptor\u001B[38;5;241m.\u001B[39mFieldDescriptor(\n\u001B[0;32m    163\u001B[0m       name\u001B[38;5;241m=\u001B[39m\u001B[38;5;124m'\u001B[39m\u001B[38;5;124mgroundtruth_box_visualization_color\u001B[39m\u001B[38;5;124m'\u001B[39m, full_name\u001B[38;5;241m=\u001B[39m\u001B[38;5;124m'\u001B[39m\u001B[38;5;124mobject_detection.protos.EvalConfig.groundtruth_box_visualization_color\u001B[39m\u001B[38;5;124m'\u001B[39m, index\u001B[38;5;241m=\u001B[39m\u001B[38;5;241m18\u001B[39m,\n\u001B[0;32m    164\u001B[0m       number\u001B[38;5;241m=\u001B[39m\u001B[38;5;241m18\u001B[39m, \u001B[38;5;28mtype\u001B[39m\u001B[38;5;241m=\u001B[39m\u001B[38;5;241m9\u001B[39m, cpp_type\u001B[38;5;241m=\u001B[39m\u001B[38;5;241m9\u001B[39m, label\u001B[38;5;241m=\u001B[39m\u001B[38;5;241m1\u001B[39m,\n\u001B[0;32m    165\u001B[0m       has_default_value\u001B[38;5;241m=\u001B[39m\u001B[38;5;28;01mTrue\u001B[39;00m, default_value\u001B[38;5;241m=\u001B[39m_b(\u001B[38;5;124m\"\u001B[39m\u001B[38;5;124mblack\u001B[39m\u001B[38;5;124m\"\u001B[39m)\u001B[38;5;241m.\u001B[39mdecode(\u001B[38;5;124m'\u001B[39m\u001B[38;5;124mutf-8\u001B[39m\u001B[38;5;124m'\u001B[39m),\n\u001B[0;32m    166\u001B[0m       message_type\u001B[38;5;241m=\u001B[39m\u001B[38;5;28;01mNone\u001B[39;00m, enum_type\u001B[38;5;241m=\u001B[39m\u001B[38;5;28;01mNone\u001B[39;00m, containing_type\u001B[38;5;241m=\u001B[39m\u001B[38;5;28;01mNone\u001B[39;00m,\n\u001B[0;32m    167\u001B[0m       is_extension\u001B[38;5;241m=\u001B[39m\u001B[38;5;28;01mFalse\u001B[39;00m, extension_scope\u001B[38;5;241m=\u001B[39m\u001B[38;5;28;01mNone\u001B[39;00m,\n\u001B[0;32m    168\u001B[0m       serialized_options\u001B[38;5;241m=\u001B[39m\u001B[38;5;28;01mNone\u001B[39;00m, file\u001B[38;5;241m=\u001B[39mDESCRIPTOR),\n\u001B[0;32m    169\u001B[0m     _descriptor\u001B[38;5;241m.\u001B[39mFieldDescriptor(\n\u001B[0;32m    170\u001B[0m       name\u001B[38;5;241m=\u001B[39m\u001B[38;5;124m'\u001B[39m\u001B[38;5;124mkeep_image_id_for_visualization_export\u001B[39m\u001B[38;5;124m'\u001B[39m, full_name\u001B[38;5;241m=\u001B[39m\u001B[38;5;124m'\u001B[39m\u001B[38;5;124mobject_detection.protos.EvalConfig.keep_image_id_for_visualization_export\u001B[39m\u001B[38;5;124m'\u001B[39m, index\u001B[38;5;241m=\u001B[39m\u001B[38;5;241m19\u001B[39m,\n\u001B[0;32m    171\u001B[0m       number\u001B[38;5;241m=\u001B[39m\u001B[38;5;241m19\u001B[39m, \u001B[38;5;28mtype\u001B[39m\u001B[38;5;241m=\u001B[39m\u001B[38;5;241m8\u001B[39m, cpp_type\u001B[38;5;241m=\u001B[39m\u001B[38;5;241m7\u001B[39m, label\u001B[38;5;241m=\u001B[39m\u001B[38;5;241m1\u001B[39m,\n\u001B[0;32m    172\u001B[0m       has_default_value\u001B[38;5;241m=\u001B[39m\u001B[38;5;28;01mTrue\u001B[39;00m, default_value\u001B[38;5;241m=\u001B[39m\u001B[38;5;28;01mFalse\u001B[39;00m,\n\u001B[0;32m    173\u001B[0m       message_type\u001B[38;5;241m=\u001B[39m\u001B[38;5;28;01mNone\u001B[39;00m, enum_type\u001B[38;5;241m=\u001B[39m\u001B[38;5;28;01mNone\u001B[39;00m, containing_type\u001B[38;5;241m=\u001B[39m\u001B[38;5;28;01mNone\u001B[39;00m,\n\u001B[0;32m    174\u001B[0m       is_extension\u001B[38;5;241m=\u001B[39m\u001B[38;5;28;01mFalse\u001B[39;00m, extension_scope\u001B[38;5;241m=\u001B[39m\u001B[38;5;28;01mNone\u001B[39;00m,\n\u001B[0;32m    175\u001B[0m       serialized_options\u001B[38;5;241m=\u001B[39m\u001B[38;5;28;01mNone\u001B[39;00m, file\u001B[38;5;241m=\u001B[39mDESCRIPTOR),\n\u001B[0;32m    176\u001B[0m     _descriptor\u001B[38;5;241m.\u001B[39mFieldDescriptor(\n\u001B[0;32m    177\u001B[0m       name\u001B[38;5;241m=\u001B[39m\u001B[38;5;124m'\u001B[39m\u001B[38;5;124mretain_original_images\u001B[39m\u001B[38;5;124m'\u001B[39m, full_name\u001B[38;5;241m=\u001B[39m\u001B[38;5;124m'\u001B[39m\u001B[38;5;124mobject_detection.protos.EvalConfig.retain_original_images\u001B[39m\u001B[38;5;124m'\u001B[39m, index\u001B[38;5;241m=\u001B[39m\u001B[38;5;241m20\u001B[39m,\n\u001B[0;32m    178\u001B[0m       number\u001B[38;5;241m=\u001B[39m\u001B[38;5;241m23\u001B[39m, \u001B[38;5;28mtype\u001B[39m\u001B[38;5;241m=\u001B[39m\u001B[38;5;241m8\u001B[39m, cpp_type\u001B[38;5;241m=\u001B[39m\u001B[38;5;241m7\u001B[39m, label\u001B[38;5;241m=\u001B[39m\u001B[38;5;241m1\u001B[39m,\n\u001B[0;32m    179\u001B[0m       has_default_value\u001B[38;5;241m=\u001B[39m\u001B[38;5;28;01mTrue\u001B[39;00m, default_value\u001B[38;5;241m=\u001B[39m\u001B[38;5;28;01mTrue\u001B[39;00m,\n\u001B[0;32m    180\u001B[0m       message_type\u001B[38;5;241m=\u001B[39m\u001B[38;5;28;01mNone\u001B[39;00m, enum_type\u001B[38;5;241m=\u001B[39m\u001B[38;5;28;01mNone\u001B[39;00m, containing_type\u001B[38;5;241m=\u001B[39m\u001B[38;5;28;01mNone\u001B[39;00m,\n\u001B[0;32m    181\u001B[0m       is_extension\u001B[38;5;241m=\u001B[39m\u001B[38;5;28;01mFalse\u001B[39;00m, extension_scope\u001B[38;5;241m=\u001B[39m\u001B[38;5;28;01mNone\u001B[39;00m,\n\u001B[0;32m    182\u001B[0m       serialized_options\u001B[38;5;241m=\u001B[39m\u001B[38;5;28;01mNone\u001B[39;00m, file\u001B[38;5;241m=\u001B[39mDESCRIPTOR),\n\u001B[0;32m    183\u001B[0m     _descriptor\u001B[38;5;241m.\u001B[39mFieldDescriptor(\n\u001B[0;32m    184\u001B[0m       name\u001B[38;5;241m=\u001B[39m\u001B[38;5;124m'\u001B[39m\u001B[38;5;124minclude_metrics_per_category\u001B[39m\u001B[38;5;124m'\u001B[39m, full_name\u001B[38;5;241m=\u001B[39m\u001B[38;5;124m'\u001B[39m\u001B[38;5;124mobject_detection.protos.EvalConfig.include_metrics_per_category\u001B[39m\u001B[38;5;124m'\u001B[39m, index\u001B[38;5;241m=\u001B[39m\u001B[38;5;241m21\u001B[39m,\n\u001B[0;32m    185\u001B[0m       number\u001B[38;5;241m=\u001B[39m\u001B[38;5;241m24\u001B[39m, \u001B[38;5;28mtype\u001B[39m\u001B[38;5;241m=\u001B[39m\u001B[38;5;241m8\u001B[39m, cpp_type\u001B[38;5;241m=\u001B[39m\u001B[38;5;241m7\u001B[39m, label\u001B[38;5;241m=\u001B[39m\u001B[38;5;241m1\u001B[39m,\n\u001B[0;32m    186\u001B[0m       has_default_value\u001B[38;5;241m=\u001B[39m\u001B[38;5;28;01mTrue\u001B[39;00m, default_value\u001B[38;5;241m=\u001B[39m\u001B[38;5;28;01mFalse\u001B[39;00m,\n\u001B[0;32m    187\u001B[0m       message_type\u001B[38;5;241m=\u001B[39m\u001B[38;5;28;01mNone\u001B[39;00m, enum_type\u001B[38;5;241m=\u001B[39m\u001B[38;5;28;01mNone\u001B[39;00m, containing_type\u001B[38;5;241m=\u001B[39m\u001B[38;5;28;01mNone\u001B[39;00m,\n\u001B[0;32m    188\u001B[0m       is_extension\u001B[38;5;241m=\u001B[39m\u001B[38;5;28;01mFalse\u001B[39;00m, extension_scope\u001B[38;5;241m=\u001B[39m\u001B[38;5;28;01mNone\u001B[39;00m,\n\u001B[0;32m    189\u001B[0m       serialized_options\u001B[38;5;241m=\u001B[39m\u001B[38;5;28;01mNone\u001B[39;00m, file\u001B[38;5;241m=\u001B[39mDESCRIPTOR),\n\u001B[0;32m    190\u001B[0m   ],\n\u001B[0;32m    191\u001B[0m   extensions\u001B[38;5;241m=\u001B[39m[\n\u001B[0;32m    192\u001B[0m   ],\n\u001B[0;32m    193\u001B[0m   nested_types\u001B[38;5;241m=\u001B[39m[],\n\u001B[0;32m    194\u001B[0m   enum_types\u001B[38;5;241m=\u001B[39m[\n\u001B[0;32m    195\u001B[0m   ],\n\u001B[0;32m    196\u001B[0m   serialized_options\u001B[38;5;241m=\u001B[39m\u001B[38;5;28;01mNone\u001B[39;00m,\n\u001B[0;32m    197\u001B[0m   is_extendable\u001B[38;5;241m=\u001B[39m\u001B[38;5;28;01mFalse\u001B[39;00m,\n\u001B[0;32m    198\u001B[0m   syntax\u001B[38;5;241m=\u001B[39m\u001B[38;5;124m'\u001B[39m\u001B[38;5;124mproto2\u001B[39m\u001B[38;5;124m'\u001B[39m,\n\u001B[0;32m    199\u001B[0m   extension_ranges\u001B[38;5;241m=\u001B[39m[],\n\u001B[0;32m    200\u001B[0m   oneofs\u001B[38;5;241m=\u001B[39m[\n\u001B[0;32m    201\u001B[0m   ],\n\u001B[0;32m    202\u001B[0m   serialized_start\u001B[38;5;241m=\u001B[39m\u001B[38;5;241m64\u001B[39m,\n\u001B[0;32m    203\u001B[0m   serialized_end\u001B[38;5;241m=\u001B[39m\u001B[38;5;241m823\u001B[39m,\n\u001B[0;32m    204\u001B[0m )\n\u001B[0;32m    206\u001B[0m DESCRIPTOR\u001B[38;5;241m.\u001B[39mmessage_types_by_name[\u001B[38;5;124m'\u001B[39m\u001B[38;5;124mEvalConfig\u001B[39m\u001B[38;5;124m'\u001B[39m] \u001B[38;5;241m=\u001B[39m _EVALCONFIG\n\u001B[0;32m    207\u001B[0m _sym_db\u001B[38;5;241m.\u001B[39mRegisterFileDescriptor(DESCRIPTOR)\n",
      "File \u001B[1;32m~\\anaconda3\\lib\\site-packages\\google\\protobuf\\descriptor.py:561\u001B[0m, in \u001B[0;36mFieldDescriptor.__new__\u001B[1;34m(cls, name, full_name, index, number, type, cpp_type, label, default_value, message_type, enum_type, containing_type, is_extension, extension_scope, options, serialized_options, has_default_value, containing_oneof, json_name, file, create_key)\u001B[0m\n\u001B[0;32m    555\u001B[0m \u001B[38;5;28;01mdef\u001B[39;00m \u001B[38;5;21m__new__\u001B[39m(\u001B[38;5;28mcls\u001B[39m, name, full_name, index, number, \u001B[38;5;28mtype\u001B[39m, cpp_type, label,\n\u001B[0;32m    556\u001B[0m             default_value, message_type, enum_type, containing_type,\n\u001B[0;32m    557\u001B[0m             is_extension, extension_scope, options\u001B[38;5;241m=\u001B[39m\u001B[38;5;28;01mNone\u001B[39;00m,\n\u001B[0;32m    558\u001B[0m             serialized_options\u001B[38;5;241m=\u001B[39m\u001B[38;5;28;01mNone\u001B[39;00m,\n\u001B[0;32m    559\u001B[0m             has_default_value\u001B[38;5;241m=\u001B[39m\u001B[38;5;28;01mTrue\u001B[39;00m, containing_oneof\u001B[38;5;241m=\u001B[39m\u001B[38;5;28;01mNone\u001B[39;00m, json_name\u001B[38;5;241m=\u001B[39m\u001B[38;5;28;01mNone\u001B[39;00m,\n\u001B[0;32m    560\u001B[0m             file\u001B[38;5;241m=\u001B[39m\u001B[38;5;28;01mNone\u001B[39;00m, create_key\u001B[38;5;241m=\u001B[39m\u001B[38;5;28;01mNone\u001B[39;00m):  \u001B[38;5;66;03m# pylint: disable=redefined-builtin\u001B[39;00m\n\u001B[1;32m--> 561\u001B[0m   \u001B[43m_message\u001B[49m\u001B[38;5;241;43m.\u001B[39;49m\u001B[43mMessage\u001B[49m\u001B[38;5;241;43m.\u001B[39;49m\u001B[43m_CheckCalledFromGeneratedFile\u001B[49m\u001B[43m(\u001B[49m\u001B[43m)\u001B[49m\n\u001B[0;32m    562\u001B[0m   \u001B[38;5;28;01mif\u001B[39;00m is_extension:\n\u001B[0;32m    563\u001B[0m     \u001B[38;5;28;01mreturn\u001B[39;00m _message\u001B[38;5;241m.\u001B[39mdefault_pool\u001B[38;5;241m.\u001B[39mFindExtensionByName(full_name)\n",
      "\u001B[1;31mTypeError\u001B[0m: Descriptors cannot not be created directly.\nIf this call came from a _pb2.py file, your generated code is out of date and must be regenerated with protoc >= 3.19.0.\nIf you cannot immediately regenerate your protos, some other possible workarounds are:\n 1. Downgrade the protobuf package to 3.20.x or lower.\n 2. Set PROTOCOL_BUFFERS_PYTHON_IMPLEMENTATION=python (but this will use pure-Python parsing and will be much slower).\n\nMore information: https://developers.google.com/protocol-buffers/docs/news/2022-05-06#python-updates"
     ]
    }
   ],
   "source": [
    "import tensorflow as tf\n",
    "from object_detection.utils import config_util\n",
    "from object_detection.protos import pipeline_pb2\n",
    "from google.protobuf import text_format"
   ]
  },
  {
   "cell_type": "code",
   "execution_count": 9,
   "metadata": {},
   "outputs": [],
   "source": [
    "CONFIG_PATH = MODEL_PATH+'/'+CUSTOM_MODEL_NAME+'/pipeline.config'"
   ]
  },
  {
   "cell_type": "code",
   "execution_count": 10,
   "metadata": {},
   "outputs": [
    {
     "ename": "NameError",
     "evalue": "name 'config_util' is not defined",
     "output_type": "error",
     "traceback": [
      "\u001B[1;31m---------------------------------------------------------------------------\u001B[0m",
      "\u001B[1;31mNameError\u001B[0m                                 Traceback (most recent call last)",
      "Input \u001B[1;32mIn [10]\u001B[0m, in \u001B[0;36m<cell line: 1>\u001B[1;34m()\u001B[0m\n\u001B[1;32m----> 1\u001B[0m config \u001B[38;5;241m=\u001B[39m \u001B[43mconfig_util\u001B[49m\u001B[38;5;241m.\u001B[39mget_configs_from_pipeline_file(CONFIG_PATH)\n",
      "\u001B[1;31mNameError\u001B[0m: name 'config_util' is not defined"
     ]
    }
   ],
   "source": [
    "config = config_util.get_configs_from_pipeline_file(CONFIG_PATH)"
   ]
  },
  {
   "cell_type": "code",
   "execution_count": 11,
   "metadata": {
    "collapsed": true
   },
   "outputs": [
    {
     "name": "stdout",
     "output_type": "stream",
     "text": [
      "Available objects for config:\n",
      "    AliasManager\n",
      "    DisplayFormatter\n",
      "    HistoryManager\n",
      "    IPCompleter\n",
      "    IPKernelApp\n",
      "    LoggingMagics\n",
      "    MagicsManager\n",
      "    OSMagics\n",
      "    PrefilterManager\n",
      "    ScriptMagics\n",
      "    StoreMagics\n",
      "    ZMQInteractiveShell\n"
     ]
    }
   ],
   "source": [
    "config"
   ]
  },
  {
   "cell_type": "code",
   "execution_count": 12,
   "metadata": {},
   "outputs": [
    {
     "ename": "NameError",
     "evalue": "name 'pipeline_pb2' is not defined",
     "output_type": "error",
     "traceback": [
      "\u001B[1;31m---------------------------------------------------------------------------\u001B[0m",
      "\u001B[1;31mNameError\u001B[0m                                 Traceback (most recent call last)",
      "Input \u001B[1;32mIn [12]\u001B[0m, in \u001B[0;36m<cell line: 1>\u001B[1;34m()\u001B[0m\n\u001B[1;32m----> 1\u001B[0m pipeline_config \u001B[38;5;241m=\u001B[39m \u001B[43mpipeline_pb2\u001B[49m\u001B[38;5;241m.\u001B[39mTrainEvalPipelineConfig()\n\u001B[0;32m      2\u001B[0m \u001B[38;5;28;01mwith\u001B[39;00m tf\u001B[38;5;241m.\u001B[39mio\u001B[38;5;241m.\u001B[39mgfile\u001B[38;5;241m.\u001B[39mGFile(CONFIG_PATH, \u001B[38;5;124m\"\u001B[39m\u001B[38;5;124mr\u001B[39m\u001B[38;5;124m\"\u001B[39m) \u001B[38;5;28;01mas\u001B[39;00m f:                                                                                                                                                                                                                     \n\u001B[0;32m      3\u001B[0m     proto_str \u001B[38;5;241m=\u001B[39m f\u001B[38;5;241m.\u001B[39mread()                                                                                                                                                                                                                                          \n",
      "\u001B[1;31mNameError\u001B[0m: name 'pipeline_pb2' is not defined"
     ]
    }
   ],
   "source": [
    "pipeline_config = pipeline_pb2.TrainEvalPipelineConfig()\n",
    "with tf.io.gfile.GFile(CONFIG_PATH, \"r\") as f:                                                                                                                                                                                                                     \n",
    "    proto_str = f.read()                                                                                                                                                                                                                                          \n",
    "    text_format.Merge(proto_str, pipeline_config)  "
   ]
  },
  {
   "cell_type": "code",
   "execution_count": null,
   "metadata": {},
   "outputs": [],
   "source": [
    "pipeline_config.model.ssd.num_classes = 2\n",
    "pipeline_config.train_config.batch_size = 4\n",
    "pipeline_config.train_config.fine_tune_checkpoint = PRETRAINED_MODEL_PATH+'/ssd_mobilenet_v2_fpnlite_320x320_coco17_tpu-8/checkpoint/ckpt-0'\n",
    "pipeline_config.train_config.fine_tune_checkpoint_type = \"detection\"\n",
    "pipeline_config.train_input_reader.label_map_path= ANNOTATION_PATH + '/label_map.pbtxt'\n",
    "pipeline_config.train_input_reader.tf_record_input_reader.input_path[:] = [ANNOTATION_PATH + '/train.record']\n",
    "pipeline_config.eval_input_reader[0].label_map_path = ANNOTATION_PATH + '/label_map.pbtxt'\n",
    "pipeline_config.eval_input_reader[0].tf_record_input_reader.input_path[:] = [ANNOTATION_PATH + '/test.record']"
   ]
  },
  {
   "cell_type": "code",
   "execution_count": null,
   "metadata": {},
   "outputs": [],
   "source": [
    "config_text = text_format.MessageToString(pipeline_config)                                                                                                                                                                                                        \n",
    "with tf.io.gfile.GFile(CONFIG_PATH, \"wb\") as f:                                                                                                                                                                                                                     \n",
    "    f.write(config_text)   "
   ]
  },
  {
   "cell_type": "markdown",
   "metadata": {},
   "source": [
    "# 6. Train the model"
   ]
  },
  {
   "cell_type": "code",
   "execution_count": null,
   "metadata": {},
   "outputs": [],
   "source": [
    "print(\"\"\"python {}/research/object_detection/model_main_tf2.py --model_dir={}/{} --pipeline_config_path={}/{}/pipeline.config --num_train_steps=5000\"\"\".format(APIMODEL_PATH, MODEL_PATH,CUSTOM_MODEL_NAME,MODEL_PATH,CUSTOM_MODEL_NAME))"
   ]
  },
  {
   "cell_type": "markdown",
   "metadata": {},
   "source": [
    "# 7. Load Train Model From Checkpoint"
   ]
  },
  {
   "cell_type": "code",
   "execution_count": null,
   "metadata": {},
   "outputs": [],
   "source": [
    "import os\n",
    "from object_detection.utils import label_map_util\n",
    "from object_detection.utils import visualization_utils as viz_utils\n",
    "from object_detection.builders import model_builder"
   ]
  },
  {
   "cell_type": "code",
   "execution_count": null,
   "metadata": {},
   "outputs": [],
   "source": [
    "# Load pipeline config and build a detection model\n",
    "configs = config_util.get_configs_from_pipeline_file(CONFIG_PATH)\n",
    "detection_model = model_builder.build(model_config=configs['model'], is_training=False)\n",
    "\n",
    "# Restore checkpoint\n",
    "ckpt = tf.compat.v2.train.Checkpoint(model=detection_model)\n",
    "ckpt.restore(os.path.join(CHECKPOINT_PATH, 'ckpt-6')).expect_partial()\n",
    "\n",
    "@tf.function\n",
    "def detect_fn(image):\n",
    "    image, shapes = detection_model.preprocess(image)\n",
    "    prediction_dict = detection_model.predict(image, shapes)\n",
    "    detections = detection_model.postprocess(prediction_dict, shapes)\n",
    "    return detections"
   ]
  },
  {
   "cell_type": "markdown",
   "metadata": {},
   "source": [
    "# 8. Detect in Real-Time"
   ]
  },
  {
   "cell_type": "code",
   "execution_count": null,
   "metadata": {},
   "outputs": [],
   "source": [
    "import cv2 \n",
    "import numpy as np"
   ]
  },
  {
   "cell_type": "code",
   "execution_count": null,
   "metadata": {},
   "outputs": [],
   "source": [
    "category_index = label_map_util.create_category_index_from_labelmap(ANNOTATION_PATH+'/label_map.pbtxt')"
   ]
  },
  {
   "cell_type": "code",
   "execution_count": null,
   "metadata": {},
   "outputs": [],
   "source": [
    "cap.release()"
   ]
  },
  {
   "cell_type": "code",
   "execution_count": null,
   "metadata": {},
   "outputs": [],
   "source": [
    "# Setup capture\n",
    "cap = cv2.VideoCapture(0)\n",
    "width = int(cap.get(cv2.CAP_PROP_FRAME_WIDTH))\n",
    "height = int(cap.get(cv2.CAP_PROP_FRAME_HEIGHT))"
   ]
  },
  {
   "cell_type": "code",
   "execution_count": null,
   "metadata": {},
   "outputs": [],
   "source": [
    "while True: \n",
    "    ret, frame = cap.read()\n",
    "    image_np = np.array(frame)\n",
    "    \n",
    "    input_tensor = tf.convert_to_tensor(np.expand_dims(image_np, 0), dtype=tf.float32)\n",
    "    detections = detect_fn(input_tensor)\n",
    "    \n",
    "    num_detections = int(detections.pop('num_detections'))\n",
    "    detections = {key: value[0, :num_detections].numpy()\n",
    "                  for key, value in detections.items()}\n",
    "    detections['num_detections'] = num_detections\n",
    "\n",
    "    # detection_classes should be ints.\n",
    "    detections['detection_classes'] = detections['detection_classes'].astype(np.int64)\n",
    "\n",
    "    label_id_offset = 1\n",
    "    image_np_with_detections = image_np.copy()\n",
    "\n",
    "    viz_utils.visualize_boxes_and_labels_on_image_array(\n",
    "                image_np_with_detections,\n",
    "                detections['detection_boxes'],\n",
    "                detections['detection_classes']+label_id_offset,\n",
    "                detections['detection_scores'],\n",
    "                category_index,\n",
    "                use_normalized_coordinates=True,\n",
    "                max_boxes_to_draw=5,\n",
    "                min_score_thresh=.5,\n",
    "                agnostic_mode=False)\n",
    "\n",
    "    cv2.imshow('object detection',  cv2.resize(image_np_with_detections, (800, 600)))\n",
    "    \n",
    "    if cv2.waitKey(1) & 0xFF == ord('q'):\n",
    "        cap.release()\n",
    "        break"
   ]
  },
  {
   "cell_type": "code",
   "execution_count": null,
   "metadata": {},
   "outputs": [],
   "source": [
    "detections = detect_fn(input_tensor)"
   ]
  },
  {
   "cell_type": "code",
   "execution_count": null,
   "metadata": {},
   "outputs": [],
   "source": [
    "from matplotlib import pyplot as plt"
   ]
  },
  {
   "cell_type": "code",
   "execution_count": null,
   "metadata": {},
   "outputs": [],
   "source": []
  }
 ],
 "metadata": {
  "kernelspec": {
   "display_name": "Python 3",
   "language": "python",
   "name": "python3"
  },
  "language_info": {
   "codemirror_mode": {
    "name": "ipython",
    "version": 3
   },
   "file_extension": ".py",
   "mimetype": "text/x-python",
   "name": "python",
   "nbconvert_exporter": "python",
   "pygments_lexer": "ipython3",
   "version": "3.7.4"
  }
 },
 "nbformat": 4,
 "nbformat_minor": 2
}
